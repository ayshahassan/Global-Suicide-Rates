{
 "cells": [
  {
   "cell_type": "markdown",
   "id": "b5323ca8",
   "metadata": {},
   "source": [
    "<h1>\n",
    "    <font color=0000FF>\n",
    "        6.4 Supervised Machine Learning:  Regression \n",
    "    </font>\n",
    "</h1>\n",
    "\n",
    "___\n",
    "\n",
    "## This script contains the following:\n",
    "\n",
    "### 1. Importing libraries and data\n",
    "\n",
    "### 2. Data cleaning\n",
    "\n",
    "### 3. Data prep for regression analysis\n",
    "\n",
    "### 4. Regression analysis\n",
    "\n",
    "* **A. Hypothesis: The higher the gdp_per_capita , the lower will be suicide rates.\n",
    "[GDP per capita vs. Suicide rates]**\n",
    "\n",
    "* **B. Hypothesis: The higher the HDI for year, the lower will be suicide rates.\n",
    "[HDI for year vs Suicide rates]**\n",
    "\n",
    "* **C. Hypothesis: The higher the gdp per capita, the lower will be the count of suicides.\n",
    "[GDP_per_ capita vs count of suicides]**\n",
    "\n",
    "* **D. The higher the population, the higher the count of suicides\n",
    "[Population vs. count of suicides]**\n",
    "\n",
    "### 5. Exporting dataset"
   ]
  },
  {
   "cell_type": "markdown",
   "id": "46e72bc2",
   "metadata": {},
   "source": [
    "___\n",
    "\n",
    "### 1. Importing libraries and data"
   ]
  },
  {
   "cell_type": "code",
   "execution_count": 1,
   "id": "b70883d3",
   "metadata": {},
   "outputs": [],
   "source": [
    "import pandas as pd\n",
    "import numpy as np\n",
    "import seaborn as sns\n",
    "import matplotlib\n",
    "import matplotlib.pyplot as plt\n",
    "import os\n",
    "import sklearn\n",
    "from sklearn.model_selection import train_test_split \n",
    "from sklearn.linear_model import LinearRegression\n",
    "from sklearn.metrics import mean_squared_error, r2_score"
   ]
  },
  {
   "cell_type": "code",
   "execution_count": 2,
   "id": "f9c74a93",
   "metadata": {},
   "outputs": [],
   "source": [
    "# This option ensures that the graphs created are displayed within the notebook without the need to \"call\" them specifically.\n",
    "\n",
    "%matplotlib inline"
   ]
  },
  {
   "cell_type": "code",
   "execution_count": 3,
   "id": "617c76c4",
   "metadata": {},
   "outputs": [
    {
     "data": {
      "text/plain": [
       "'/Users/aysha/Documents/Achievement 6 - Global Suicide Rates/'"
      ]
     },
     "execution_count": 3,
     "metadata": {},
     "output_type": "execute_result"
    }
   ],
   "source": [
    "#Turn project folder path into a string\n",
    "\n",
    "'/Users/aysha/Documents/Achievement 6 - Global Suicide Rates/'"
   ]
  },
  {
   "cell_type": "code",
   "execution_count": 4,
   "id": "146acd6e",
   "metadata": {},
   "outputs": [],
   "source": [
    "# Define path\n",
    "\n",
    "path = r'/Users/aysha/Documents/Achievement 6 - Global Suicide Rates/'"
   ]
  },
  {
   "cell_type": "code",
   "execution_count": 5,
   "id": "0533a204",
   "metadata": {},
   "outputs": [
    {
     "data": {
      "text/plain": [
       "'/Users/aysha/Documents/Achievement 6 - Global Suicide Rates/'"
      ]
     },
     "execution_count": 5,
     "metadata": {},
     "output_type": "execute_result"
    }
   ],
   "source": [
    "path"
   ]
  },
  {
   "cell_type": "code",
   "execution_count": 6,
   "id": "b8aa99be",
   "metadata": {},
   "outputs": [],
   "source": [
    "# Import the global suicides data\n",
    "\n",
    "df = pd.read_csv(os.path.join(path, '02 Data', 'Original Data', 'master.csv'), index_col = False)"
   ]
  },
  {
   "cell_type": "code",
   "execution_count": 7,
   "id": "5eac296d",
   "metadata": {},
   "outputs": [
    {
     "data": {
      "text/html": [
       "<div>\n",
       "<style scoped>\n",
       "    .dataframe tbody tr th:only-of-type {\n",
       "        vertical-align: middle;\n",
       "    }\n",
       "\n",
       "    .dataframe tbody tr th {\n",
       "        vertical-align: top;\n",
       "    }\n",
       "\n",
       "    .dataframe thead th {\n",
       "        text-align: right;\n",
       "    }\n",
       "</style>\n",
       "<table border=\"1\" class=\"dataframe\">\n",
       "  <thead>\n",
       "    <tr style=\"text-align: right;\">\n",
       "      <th></th>\n",
       "      <th>country</th>\n",
       "      <th>year</th>\n",
       "      <th>sex</th>\n",
       "      <th>age</th>\n",
       "      <th>suicides_no</th>\n",
       "      <th>population</th>\n",
       "      <th>suicides/100k pop</th>\n",
       "      <th>country-year</th>\n",
       "      <th>HDI for year</th>\n",
       "      <th>gdp_for_year ($)</th>\n",
       "      <th>gdp_per_capita ($)</th>\n",
       "      <th>generation</th>\n",
       "    </tr>\n",
       "  </thead>\n",
       "  <tbody>\n",
       "    <tr>\n",
       "      <th>0</th>\n",
       "      <td>Albania</td>\n",
       "      <td>1987</td>\n",
       "      <td>male</td>\n",
       "      <td>15-24 years</td>\n",
       "      <td>21</td>\n",
       "      <td>312900</td>\n",
       "      <td>6.71</td>\n",
       "      <td>Albania1987</td>\n",
       "      <td>NaN</td>\n",
       "      <td>2,156,624,900</td>\n",
       "      <td>796</td>\n",
       "      <td>Generation X</td>\n",
       "    </tr>\n",
       "    <tr>\n",
       "      <th>1</th>\n",
       "      <td>Albania</td>\n",
       "      <td>1987</td>\n",
       "      <td>male</td>\n",
       "      <td>35-54 years</td>\n",
       "      <td>16</td>\n",
       "      <td>308000</td>\n",
       "      <td>5.19</td>\n",
       "      <td>Albania1987</td>\n",
       "      <td>NaN</td>\n",
       "      <td>2,156,624,900</td>\n",
       "      <td>796</td>\n",
       "      <td>Silent</td>\n",
       "    </tr>\n",
       "    <tr>\n",
       "      <th>2</th>\n",
       "      <td>Albania</td>\n",
       "      <td>1987</td>\n",
       "      <td>female</td>\n",
       "      <td>15-24 years</td>\n",
       "      <td>14</td>\n",
       "      <td>289700</td>\n",
       "      <td>4.83</td>\n",
       "      <td>Albania1987</td>\n",
       "      <td>NaN</td>\n",
       "      <td>2,156,624,900</td>\n",
       "      <td>796</td>\n",
       "      <td>Generation X</td>\n",
       "    </tr>\n",
       "    <tr>\n",
       "      <th>3</th>\n",
       "      <td>Albania</td>\n",
       "      <td>1987</td>\n",
       "      <td>male</td>\n",
       "      <td>75+ years</td>\n",
       "      <td>1</td>\n",
       "      <td>21800</td>\n",
       "      <td>4.59</td>\n",
       "      <td>Albania1987</td>\n",
       "      <td>NaN</td>\n",
       "      <td>2,156,624,900</td>\n",
       "      <td>796</td>\n",
       "      <td>G.I. Generation</td>\n",
       "    </tr>\n",
       "    <tr>\n",
       "      <th>4</th>\n",
       "      <td>Albania</td>\n",
       "      <td>1987</td>\n",
       "      <td>male</td>\n",
       "      <td>25-34 years</td>\n",
       "      <td>9</td>\n",
       "      <td>274300</td>\n",
       "      <td>3.28</td>\n",
       "      <td>Albania1987</td>\n",
       "      <td>NaN</td>\n",
       "      <td>2,156,624,900</td>\n",
       "      <td>796</td>\n",
       "      <td>Boomers</td>\n",
       "    </tr>\n",
       "  </tbody>\n",
       "</table>\n",
       "</div>"
      ],
      "text/plain": [
       "   country  year     sex          age  suicides_no  population  \\\n",
       "0  Albania  1987    male  15-24 years           21      312900   \n",
       "1  Albania  1987    male  35-54 years           16      308000   \n",
       "2  Albania  1987  female  15-24 years           14      289700   \n",
       "3  Albania  1987    male    75+ years            1       21800   \n",
       "4  Albania  1987    male  25-34 years            9      274300   \n",
       "\n",
       "   suicides/100k pop country-year  HDI for year  gdp_for_year ($)   \\\n",
       "0               6.71  Albania1987           NaN      2,156,624,900   \n",
       "1               5.19  Albania1987           NaN      2,156,624,900   \n",
       "2               4.83  Albania1987           NaN      2,156,624,900   \n",
       "3               4.59  Albania1987           NaN      2,156,624,900   \n",
       "4               3.28  Albania1987           NaN      2,156,624,900   \n",
       "\n",
       "   gdp_per_capita ($)       generation  \n",
       "0                 796     Generation X  \n",
       "1                 796           Silent  \n",
       "2                 796     Generation X  \n",
       "3                 796  G.I. Generation  \n",
       "4                 796          Boomers  "
      ]
     },
     "execution_count": 7,
     "metadata": {},
     "output_type": "execute_result"
    }
   ],
   "source": [
    "df.head()"
   ]
  },
  {
   "cell_type": "markdown",
   "id": "f237811f",
   "metadata": {},
   "source": [
    "___\n",
    "\n",
    "### 2. Data Cleaning"
   ]
  },
  {
   "cell_type": "code",
   "execution_count": 8,
   "id": "776269eb",
   "metadata": {},
   "outputs": [],
   "source": [
    "# Renaming column suicides_no to count of suicides\n",
    "# Renaming column suicides/100k pop to suicide rate\n",
    "df.rename(columns = {'suicides_no' : 'count of suicides'}, inplace = True)\n",
    "df.rename(columns = {'suicides/100k pop' : 'suicide rate'}, inplace = True)"
   ]
  },
  {
   "cell_type": "code",
   "execution_count": 9,
   "id": "cf3d522a",
   "metadata": {},
   "outputs": [
    {
     "data": {
      "text/html": [
       "<div>\n",
       "<style scoped>\n",
       "    .dataframe tbody tr th:only-of-type {\n",
       "        vertical-align: middle;\n",
       "    }\n",
       "\n",
       "    .dataframe tbody tr th {\n",
       "        vertical-align: top;\n",
       "    }\n",
       "\n",
       "    .dataframe thead th {\n",
       "        text-align: right;\n",
       "    }\n",
       "</style>\n",
       "<table border=\"1\" class=\"dataframe\">\n",
       "  <thead>\n",
       "    <tr style=\"text-align: right;\">\n",
       "      <th></th>\n",
       "      <th>country</th>\n",
       "      <th>year</th>\n",
       "      <th>sex</th>\n",
       "      <th>age</th>\n",
       "      <th>count of suicides</th>\n",
       "      <th>population</th>\n",
       "      <th>suicide rate</th>\n",
       "      <th>country-year</th>\n",
       "      <th>HDI for year</th>\n",
       "      <th>gdp_for_year ($)</th>\n",
       "      <th>gdp_per_capita ($)</th>\n",
       "      <th>generation</th>\n",
       "    </tr>\n",
       "  </thead>\n",
       "  <tbody>\n",
       "    <tr>\n",
       "      <th>0</th>\n",
       "      <td>Albania</td>\n",
       "      <td>1987</td>\n",
       "      <td>male</td>\n",
       "      <td>15-24 years</td>\n",
       "      <td>21</td>\n",
       "      <td>312900</td>\n",
       "      <td>6.71</td>\n",
       "      <td>Albania1987</td>\n",
       "      <td>NaN</td>\n",
       "      <td>2,156,624,900</td>\n",
       "      <td>796</td>\n",
       "      <td>Generation X</td>\n",
       "    </tr>\n",
       "    <tr>\n",
       "      <th>1</th>\n",
       "      <td>Albania</td>\n",
       "      <td>1987</td>\n",
       "      <td>male</td>\n",
       "      <td>35-54 years</td>\n",
       "      <td>16</td>\n",
       "      <td>308000</td>\n",
       "      <td>5.19</td>\n",
       "      <td>Albania1987</td>\n",
       "      <td>NaN</td>\n",
       "      <td>2,156,624,900</td>\n",
       "      <td>796</td>\n",
       "      <td>Silent</td>\n",
       "    </tr>\n",
       "    <tr>\n",
       "      <th>2</th>\n",
       "      <td>Albania</td>\n",
       "      <td>1987</td>\n",
       "      <td>female</td>\n",
       "      <td>15-24 years</td>\n",
       "      <td>14</td>\n",
       "      <td>289700</td>\n",
       "      <td>4.83</td>\n",
       "      <td>Albania1987</td>\n",
       "      <td>NaN</td>\n",
       "      <td>2,156,624,900</td>\n",
       "      <td>796</td>\n",
       "      <td>Generation X</td>\n",
       "    </tr>\n",
       "    <tr>\n",
       "      <th>3</th>\n",
       "      <td>Albania</td>\n",
       "      <td>1987</td>\n",
       "      <td>male</td>\n",
       "      <td>75+ years</td>\n",
       "      <td>1</td>\n",
       "      <td>21800</td>\n",
       "      <td>4.59</td>\n",
       "      <td>Albania1987</td>\n",
       "      <td>NaN</td>\n",
       "      <td>2,156,624,900</td>\n",
       "      <td>796</td>\n",
       "      <td>G.I. Generation</td>\n",
       "    </tr>\n",
       "    <tr>\n",
       "      <th>4</th>\n",
       "      <td>Albania</td>\n",
       "      <td>1987</td>\n",
       "      <td>male</td>\n",
       "      <td>25-34 years</td>\n",
       "      <td>9</td>\n",
       "      <td>274300</td>\n",
       "      <td>3.28</td>\n",
       "      <td>Albania1987</td>\n",
       "      <td>NaN</td>\n",
       "      <td>2,156,624,900</td>\n",
       "      <td>796</td>\n",
       "      <td>Boomers</td>\n",
       "    </tr>\n",
       "    <tr>\n",
       "      <th>5</th>\n",
       "      <td>Albania</td>\n",
       "      <td>1987</td>\n",
       "      <td>female</td>\n",
       "      <td>75+ years</td>\n",
       "      <td>1</td>\n",
       "      <td>35600</td>\n",
       "      <td>2.81</td>\n",
       "      <td>Albania1987</td>\n",
       "      <td>NaN</td>\n",
       "      <td>2,156,624,900</td>\n",
       "      <td>796</td>\n",
       "      <td>G.I. Generation</td>\n",
       "    </tr>\n",
       "    <tr>\n",
       "      <th>6</th>\n",
       "      <td>Albania</td>\n",
       "      <td>1987</td>\n",
       "      <td>female</td>\n",
       "      <td>35-54 years</td>\n",
       "      <td>6</td>\n",
       "      <td>278800</td>\n",
       "      <td>2.15</td>\n",
       "      <td>Albania1987</td>\n",
       "      <td>NaN</td>\n",
       "      <td>2,156,624,900</td>\n",
       "      <td>796</td>\n",
       "      <td>Silent</td>\n",
       "    </tr>\n",
       "    <tr>\n",
       "      <th>7</th>\n",
       "      <td>Albania</td>\n",
       "      <td>1987</td>\n",
       "      <td>female</td>\n",
       "      <td>25-34 years</td>\n",
       "      <td>4</td>\n",
       "      <td>257200</td>\n",
       "      <td>1.56</td>\n",
       "      <td>Albania1987</td>\n",
       "      <td>NaN</td>\n",
       "      <td>2,156,624,900</td>\n",
       "      <td>796</td>\n",
       "      <td>Boomers</td>\n",
       "    </tr>\n",
       "    <tr>\n",
       "      <th>8</th>\n",
       "      <td>Albania</td>\n",
       "      <td>1987</td>\n",
       "      <td>male</td>\n",
       "      <td>55-74 years</td>\n",
       "      <td>1</td>\n",
       "      <td>137500</td>\n",
       "      <td>0.73</td>\n",
       "      <td>Albania1987</td>\n",
       "      <td>NaN</td>\n",
       "      <td>2,156,624,900</td>\n",
       "      <td>796</td>\n",
       "      <td>G.I. Generation</td>\n",
       "    </tr>\n",
       "    <tr>\n",
       "      <th>9</th>\n",
       "      <td>Albania</td>\n",
       "      <td>1987</td>\n",
       "      <td>female</td>\n",
       "      <td>5-14 years</td>\n",
       "      <td>0</td>\n",
       "      <td>311000</td>\n",
       "      <td>0.00</td>\n",
       "      <td>Albania1987</td>\n",
       "      <td>NaN</td>\n",
       "      <td>2,156,624,900</td>\n",
       "      <td>796</td>\n",
       "      <td>Generation X</td>\n",
       "    </tr>\n",
       "  </tbody>\n",
       "</table>\n",
       "</div>"
      ],
      "text/plain": [
       "   country  year     sex          age  count of suicides  population  \\\n",
       "0  Albania  1987    male  15-24 years                 21      312900   \n",
       "1  Albania  1987    male  35-54 years                 16      308000   \n",
       "2  Albania  1987  female  15-24 years                 14      289700   \n",
       "3  Albania  1987    male    75+ years                  1       21800   \n",
       "4  Albania  1987    male  25-34 years                  9      274300   \n",
       "5  Albania  1987  female    75+ years                  1       35600   \n",
       "6  Albania  1987  female  35-54 years                  6      278800   \n",
       "7  Albania  1987  female  25-34 years                  4      257200   \n",
       "8  Albania  1987    male  55-74 years                  1      137500   \n",
       "9  Albania  1987  female   5-14 years                  0      311000   \n",
       "\n",
       "   suicide rate country-year  HDI for year  gdp_for_year ($)   \\\n",
       "0          6.71  Albania1987           NaN      2,156,624,900   \n",
       "1          5.19  Albania1987           NaN      2,156,624,900   \n",
       "2          4.83  Albania1987           NaN      2,156,624,900   \n",
       "3          4.59  Albania1987           NaN      2,156,624,900   \n",
       "4          3.28  Albania1987           NaN      2,156,624,900   \n",
       "5          2.81  Albania1987           NaN      2,156,624,900   \n",
       "6          2.15  Albania1987           NaN      2,156,624,900   \n",
       "7          1.56  Albania1987           NaN      2,156,624,900   \n",
       "8          0.73  Albania1987           NaN      2,156,624,900   \n",
       "9          0.00  Albania1987           NaN      2,156,624,900   \n",
       "\n",
       "   gdp_per_capita ($)       generation  \n",
       "0                 796     Generation X  \n",
       "1                 796           Silent  \n",
       "2                 796     Generation X  \n",
       "3                 796  G.I. Generation  \n",
       "4                 796          Boomers  \n",
       "5                 796  G.I. Generation  \n",
       "6                 796           Silent  \n",
       "7                 796          Boomers  \n",
       "8                 796  G.I. Generation  \n",
       "9                 796     Generation X  "
      ]
     },
     "execution_count": 9,
     "metadata": {},
     "output_type": "execute_result"
    }
   ],
   "source": [
    "df.head(10)"
   ]
  },
  {
   "cell_type": "code",
   "execution_count": 12,
   "id": "95f4d58f",
   "metadata": {},
   "outputs": [],
   "source": [
    "#Drop columns \n",
    "\n",
    "#Dropping column'country-year' as it's a composite key of country and year variable from df\n",
    "\n",
    "df = df.drop(columns = ['country-year'])"
   ]
  },
  {
   "cell_type": "code",
   "execution_count": 13,
   "id": "8e7c62da",
   "metadata": {},
   "outputs": [
    {
     "data": {
      "text/html": [
       "<div>\n",
       "<style scoped>\n",
       "    .dataframe tbody tr th:only-of-type {\n",
       "        vertical-align: middle;\n",
       "    }\n",
       "\n",
       "    .dataframe tbody tr th {\n",
       "        vertical-align: top;\n",
       "    }\n",
       "\n",
       "    .dataframe thead th {\n",
       "        text-align: right;\n",
       "    }\n",
       "</style>\n",
       "<table border=\"1\" class=\"dataframe\">\n",
       "  <thead>\n",
       "    <tr style=\"text-align: right;\">\n",
       "      <th></th>\n",
       "      <th>country</th>\n",
       "      <th>year</th>\n",
       "      <th>sex</th>\n",
       "      <th>age</th>\n",
       "      <th>count of suicides</th>\n",
       "      <th>population</th>\n",
       "      <th>suicide rate</th>\n",
       "      <th>HDI for year</th>\n",
       "      <th>gdp_for_year ($)</th>\n",
       "      <th>gdp_per_capita ($)</th>\n",
       "      <th>generation</th>\n",
       "    </tr>\n",
       "  </thead>\n",
       "  <tbody>\n",
       "    <tr>\n",
       "      <th>0</th>\n",
       "      <td>Albania</td>\n",
       "      <td>1987</td>\n",
       "      <td>male</td>\n",
       "      <td>15-24 years</td>\n",
       "      <td>21</td>\n",
       "      <td>312900</td>\n",
       "      <td>6.71</td>\n",
       "      <td>NaN</td>\n",
       "      <td>2,156,624,900</td>\n",
       "      <td>796</td>\n",
       "      <td>Generation X</td>\n",
       "    </tr>\n",
       "    <tr>\n",
       "      <th>1</th>\n",
       "      <td>Albania</td>\n",
       "      <td>1987</td>\n",
       "      <td>male</td>\n",
       "      <td>35-54 years</td>\n",
       "      <td>16</td>\n",
       "      <td>308000</td>\n",
       "      <td>5.19</td>\n",
       "      <td>NaN</td>\n",
       "      <td>2,156,624,900</td>\n",
       "      <td>796</td>\n",
       "      <td>Silent</td>\n",
       "    </tr>\n",
       "    <tr>\n",
       "      <th>2</th>\n",
       "      <td>Albania</td>\n",
       "      <td>1987</td>\n",
       "      <td>female</td>\n",
       "      <td>15-24 years</td>\n",
       "      <td>14</td>\n",
       "      <td>289700</td>\n",
       "      <td>4.83</td>\n",
       "      <td>NaN</td>\n",
       "      <td>2,156,624,900</td>\n",
       "      <td>796</td>\n",
       "      <td>Generation X</td>\n",
       "    </tr>\n",
       "    <tr>\n",
       "      <th>3</th>\n",
       "      <td>Albania</td>\n",
       "      <td>1987</td>\n",
       "      <td>male</td>\n",
       "      <td>75+ years</td>\n",
       "      <td>1</td>\n",
       "      <td>21800</td>\n",
       "      <td>4.59</td>\n",
       "      <td>NaN</td>\n",
       "      <td>2,156,624,900</td>\n",
       "      <td>796</td>\n",
       "      <td>G.I. Generation</td>\n",
       "    </tr>\n",
       "    <tr>\n",
       "      <th>4</th>\n",
       "      <td>Albania</td>\n",
       "      <td>1987</td>\n",
       "      <td>male</td>\n",
       "      <td>25-34 years</td>\n",
       "      <td>9</td>\n",
       "      <td>274300</td>\n",
       "      <td>3.28</td>\n",
       "      <td>NaN</td>\n",
       "      <td>2,156,624,900</td>\n",
       "      <td>796</td>\n",
       "      <td>Boomers</td>\n",
       "    </tr>\n",
       "  </tbody>\n",
       "</table>\n",
       "</div>"
      ],
      "text/plain": [
       "   country  year     sex          age  count of suicides  population  \\\n",
       "0  Albania  1987    male  15-24 years                 21      312900   \n",
       "1  Albania  1987    male  35-54 years                 16      308000   \n",
       "2  Albania  1987  female  15-24 years                 14      289700   \n",
       "3  Albania  1987    male    75+ years                  1       21800   \n",
       "4  Albania  1987    male  25-34 years                  9      274300   \n",
       "\n",
       "   suicide rate  HDI for year  gdp_for_year ($)   gdp_per_capita ($)  \\\n",
       "0          6.71           NaN      2,156,624,900                 796   \n",
       "1          5.19           NaN      2,156,624,900                 796   \n",
       "2          4.83           NaN      2,156,624,900                 796   \n",
       "3          4.59           NaN      2,156,624,900                 796   \n",
       "4          3.28           NaN      2,156,624,900                 796   \n",
       "\n",
       "        generation  \n",
       "0     Generation X  \n",
       "1           Silent  \n",
       "2     Generation X  \n",
       "3  G.I. Generation  \n",
       "4          Boomers  "
      ]
     },
     "execution_count": 13,
     "metadata": {},
     "output_type": "execute_result"
    }
   ],
   "source": [
    "df.head()"
   ]
  },
  {
   "cell_type": "code",
   "execution_count": 14,
   "id": "41c6f267",
   "metadata": {},
   "outputs": [
    {
     "data": {
      "text/plain": [
       "Index(['country', 'year', 'sex', 'age', 'count of suicides', 'population',\n",
       "       'suicide rate', 'HDI for year', ' gdp_for_year ($) ',\n",
       "       'gdp_per_capita ($)', 'generation'],\n",
       "      dtype='object')"
      ]
     },
     "execution_count": 14,
     "metadata": {},
     "output_type": "execute_result"
    }
   ],
   "source": [
    "df.columns"
   ]
  },
  {
   "cell_type": "code",
   "execution_count": 15,
   "id": "ad163177",
   "metadata": {},
   "outputs": [
    {
     "data": {
      "text/html": [
       "<div>\n",
       "<style scoped>\n",
       "    .dataframe tbody tr th:only-of-type {\n",
       "        vertical-align: middle;\n",
       "    }\n",
       "\n",
       "    .dataframe tbody tr th {\n",
       "        vertical-align: top;\n",
       "    }\n",
       "\n",
       "    .dataframe thead th {\n",
       "        text-align: right;\n",
       "    }\n",
       "</style>\n",
       "<table border=\"1\" class=\"dataframe\">\n",
       "  <thead>\n",
       "    <tr style=\"text-align: right;\">\n",
       "      <th></th>\n",
       "      <th>year</th>\n",
       "      <th>count of suicides</th>\n",
       "      <th>population</th>\n",
       "      <th>suicide rate</th>\n",
       "      <th>HDI for year</th>\n",
       "      <th>gdp_per_capita ($)</th>\n",
       "    </tr>\n",
       "  </thead>\n",
       "  <tbody>\n",
       "    <tr>\n",
       "      <th>count</th>\n",
       "      <td>27820.000000</td>\n",
       "      <td>27820.000000</td>\n",
       "      <td>2.782000e+04</td>\n",
       "      <td>27820.000000</td>\n",
       "      <td>8364.000000</td>\n",
       "      <td>27820.000000</td>\n",
       "    </tr>\n",
       "    <tr>\n",
       "      <th>mean</th>\n",
       "      <td>2001.258375</td>\n",
       "      <td>242.574407</td>\n",
       "      <td>1.844794e+06</td>\n",
       "      <td>12.816097</td>\n",
       "      <td>0.776601</td>\n",
       "      <td>16866.464414</td>\n",
       "    </tr>\n",
       "    <tr>\n",
       "      <th>std</th>\n",
       "      <td>8.469055</td>\n",
       "      <td>902.047917</td>\n",
       "      <td>3.911779e+06</td>\n",
       "      <td>18.961511</td>\n",
       "      <td>0.093367</td>\n",
       "      <td>18887.576472</td>\n",
       "    </tr>\n",
       "    <tr>\n",
       "      <th>min</th>\n",
       "      <td>1985.000000</td>\n",
       "      <td>0.000000</td>\n",
       "      <td>2.780000e+02</td>\n",
       "      <td>0.000000</td>\n",
       "      <td>0.483000</td>\n",
       "      <td>251.000000</td>\n",
       "    </tr>\n",
       "    <tr>\n",
       "      <th>25%</th>\n",
       "      <td>1995.000000</td>\n",
       "      <td>3.000000</td>\n",
       "      <td>9.749850e+04</td>\n",
       "      <td>0.920000</td>\n",
       "      <td>0.713000</td>\n",
       "      <td>3447.000000</td>\n",
       "    </tr>\n",
       "    <tr>\n",
       "      <th>50%</th>\n",
       "      <td>2002.000000</td>\n",
       "      <td>25.000000</td>\n",
       "      <td>4.301500e+05</td>\n",
       "      <td>5.990000</td>\n",
       "      <td>0.779000</td>\n",
       "      <td>9372.000000</td>\n",
       "    </tr>\n",
       "    <tr>\n",
       "      <th>75%</th>\n",
       "      <td>2008.000000</td>\n",
       "      <td>131.000000</td>\n",
       "      <td>1.486143e+06</td>\n",
       "      <td>16.620000</td>\n",
       "      <td>0.855000</td>\n",
       "      <td>24874.000000</td>\n",
       "    </tr>\n",
       "    <tr>\n",
       "      <th>max</th>\n",
       "      <td>2016.000000</td>\n",
       "      <td>22338.000000</td>\n",
       "      <td>4.380521e+07</td>\n",
       "      <td>224.970000</td>\n",
       "      <td>0.944000</td>\n",
       "      <td>126352.000000</td>\n",
       "    </tr>\n",
       "  </tbody>\n",
       "</table>\n",
       "</div>"
      ],
      "text/plain": [
       "               year  count of suicides    population  suicide rate  \\\n",
       "count  27820.000000       27820.000000  2.782000e+04  27820.000000   \n",
       "mean    2001.258375         242.574407  1.844794e+06     12.816097   \n",
       "std        8.469055         902.047917  3.911779e+06     18.961511   \n",
       "min     1985.000000           0.000000  2.780000e+02      0.000000   \n",
       "25%     1995.000000           3.000000  9.749850e+04      0.920000   \n",
       "50%     2002.000000          25.000000  4.301500e+05      5.990000   \n",
       "75%     2008.000000         131.000000  1.486143e+06     16.620000   \n",
       "max     2016.000000       22338.000000  4.380521e+07    224.970000   \n",
       "\n",
       "       HDI for year  gdp_per_capita ($)  \n",
       "count   8364.000000        27820.000000  \n",
       "mean       0.776601        16866.464414  \n",
       "std        0.093367        18887.576472  \n",
       "min        0.483000          251.000000  \n",
       "25%        0.713000         3447.000000  \n",
       "50%        0.779000         9372.000000  \n",
       "75%        0.855000        24874.000000  \n",
       "max        0.944000       126352.000000  "
      ]
     },
     "execution_count": 15,
     "metadata": {},
     "output_type": "execute_result"
    }
   ],
   "source": [
    "df.describe()"
   ]
  },
  {
   "cell_type": "code",
   "execution_count": null,
   "id": "a1380b25",
   "metadata": {},
   "outputs": [],
   "source": [
    "# Creating a subset for visualization\n",
    "view_map = df[['country', 'Total_suicide_count']]"
   ]
  },
  {
   "cell_type": "markdown",
   "id": "b0b64d10",
   "metadata": {},
   "source": [
    "##### Missing values"
   ]
  },
  {
   "cell_type": "code",
   "execution_count": 26,
   "id": "6c26e8ca",
   "metadata": {},
   "outputs": [
    {
     "data": {
      "text/plain": [
       "country               0\n",
       "year                  0\n",
       "sex                   0\n",
       "age                   0\n",
       "count of suicides     0\n",
       "population            0\n",
       "suicide rate          0\n",
       "HDI for year          0\n",
       " gdp_for_year ($)     0\n",
       "gdp_per_capita ($)    0\n",
       "generation            0\n",
       "dtype: int64"
      ]
     },
     "execution_count": 26,
     "metadata": {},
     "output_type": "execute_result"
    }
   ],
   "source": [
    "# Check for missing values\n",
    "\n",
    "df.isnull().sum()"
   ]
  },
  {
   "cell_type": "code",
   "execution_count": 17,
   "id": "5d0fdf6e",
   "metadata": {},
   "outputs": [
    {
     "name": "stdout",
     "output_type": "stream",
     "text": [
      "          country  year     sex          age  count of suicides  population  \\\n",
      "0         Albania  1987    male  15-24 years                 21      312900   \n",
      "1         Albania  1987    male  35-54 years                 16      308000   \n",
      "2         Albania  1987  female  15-24 years                 14      289700   \n",
      "3         Albania  1987    male    75+ years                  1       21800   \n",
      "4         Albania  1987    male  25-34 years                  9      274300   \n",
      "...           ...   ...     ...          ...                ...         ...   \n",
      "27815  Uzbekistan  2014  female  35-54 years                107     3620833   \n",
      "27816  Uzbekistan  2014  female    75+ years                  9      348465   \n",
      "27817  Uzbekistan  2014    male   5-14 years                 60     2762158   \n",
      "27818  Uzbekistan  2014  female   5-14 years                 44     2631600   \n",
      "27819  Uzbekistan  2014  female  55-74 years                 21     1438935   \n",
      "\n",
      "       suicide rate  HDI for year  gdp_for_year ($)   gdp_per_capita ($)  \\\n",
      "0              6.71      0.776601      2,156,624,900                 796   \n",
      "1              5.19      0.776601      2,156,624,900                 796   \n",
      "2              4.83      0.776601      2,156,624,900                 796   \n",
      "3              4.59      0.776601      2,156,624,900                 796   \n",
      "4              3.28      0.776601      2,156,624,900                 796   \n",
      "...             ...           ...                ...                 ...   \n",
      "27815          2.96      0.675000     63,067,077,179                2309   \n",
      "27816          2.58      0.675000     63,067,077,179                2309   \n",
      "27817          2.17      0.675000     63,067,077,179                2309   \n",
      "27818          1.67      0.675000     63,067,077,179                2309   \n",
      "27819          1.46      0.675000     63,067,077,179                2309   \n",
      "\n",
      "            generation  \n",
      "0         Generation X  \n",
      "1               Silent  \n",
      "2         Generation X  \n",
      "3      G.I. Generation  \n",
      "4              Boomers  \n",
      "...                ...  \n",
      "27815     Generation X  \n",
      "27816           Silent  \n",
      "27817     Generation Z  \n",
      "27818     Generation Z  \n",
      "27819          Boomers  \n",
      "\n",
      "[27820 rows x 11 columns]\n"
     ]
    }
   ],
   "source": [
    "# Fill missing values for HDI for year with mean \n",
    "\n",
    "df.fillna({\"HDI for year\":df['HDI for year'].mean()},inplace=True)\n",
    "print(df)"
   ]
  },
  {
   "cell_type": "code",
   "execution_count": 18,
   "id": "466ef7f9",
   "metadata": {},
   "outputs": [
    {
     "data": {
      "text/plain": [
       "country               0\n",
       "year                  0\n",
       "sex                   0\n",
       "age                   0\n",
       "count of suicides     0\n",
       "population            0\n",
       "suicide rate          0\n",
       "HDI for year          0\n",
       " gdp_for_year ($)     0\n",
       "gdp_per_capita ($)    0\n",
       "generation            0\n",
       "dtype: int64"
      ]
     },
     "execution_count": 18,
     "metadata": {},
     "output_type": "execute_result"
    }
   ],
   "source": [
    "# Recheck for missing values\n",
    "\n",
    "df.isnull().sum()"
   ]
  },
  {
   "cell_type": "markdown",
   "id": "a140fad6",
   "metadata": {},
   "source": [
    "##### Duplicates check"
   ]
  },
  {
   "cell_type": "code",
   "execution_count": 19,
   "id": "82d3e304",
   "metadata": {},
   "outputs": [],
   "source": [
    "dups = df.duplicated()"
   ]
  },
  {
   "cell_type": "code",
   "execution_count": 20,
   "id": "742dae9c",
   "metadata": {},
   "outputs": [
    {
     "data": {
      "text/plain": [
       "(27820,)"
      ]
     },
     "execution_count": 20,
     "metadata": {},
     "output_type": "execute_result"
    }
   ],
   "source": [
    "dups.shape # No dups"
   ]
  },
  {
   "cell_type": "markdown",
   "id": "8b425af8",
   "metadata": {},
   "source": [
    "##### Extreme values checks"
   ]
  },
  {
   "cell_type": "code",
   "execution_count": 21,
   "id": "f41d7f4c",
   "metadata": {},
   "outputs": [
    {
     "name": "stderr",
     "output_type": "stream",
     "text": [
      "/opt/anaconda3/lib/python3.9/site-packages/seaborn/distributions.py:2619: FutureWarning: `distplot` is a deprecated function and will be removed in a future version. Please adapt your code to use either `displot` (a figure-level function with similar flexibility) or `histplot` (an axes-level function for histograms).\n",
      "  warnings.warn(msg, FutureWarning)\n"
     ]
    },
    {
     "data": {
      "text/plain": [
       "<AxesSubplot:xlabel='gdp_per_capita ($)', ylabel='Density'>"
      ]
     },
     "execution_count": 21,
     "metadata": {},
     "output_type": "execute_result"
    },
    {
     "data": {
      "image/png": "[encoded data removed]",
      "text/plain": [
       "<Figure size 432x288 with 1 Axes>"
      ]
     },
     "metadata": {
      "needs_background": "light"
     },
     "output_type": "display_data"
    }
   ],
   "source": [
    "# Shows extreme values\n",
    "\n",
    "sns.distplot(df['gdp_per_capita ($)'], bins=25)"
   ]
  },
  {
   "cell_type": "code",
   "execution_count": 22,
   "id": "2a638bb6",
   "metadata": {},
   "outputs": [
    {
     "data": {
      "text/plain": [
       "16866.464414090584"
      ]
     },
     "execution_count": 22,
     "metadata": {},
     "output_type": "execute_result"
    }
   ],
   "source": [
    "# Check the mean\n",
    "\n",
    "df['gdp_per_capita ($)'].mean()"
   ]
  },
  {
   "cell_type": "code",
   "execution_count": 23,
   "id": "23957a48",
   "metadata": {},
   "outputs": [
    {
     "data": {
      "text/plain": [
       "9372.0"
      ]
     },
     "execution_count": 23,
     "metadata": {},
     "output_type": "execute_result"
    }
   ],
   "source": [
    "# Check the median \n",
    "\n",
    "df['gdp_per_capita ($)'].median()"
   ]
  },
  {
   "cell_type": "code",
   "execution_count": 24,
   "id": "ad86c5de",
   "metadata": {},
   "outputs": [
    {
     "data": {
      "text/plain": [
       "126352"
      ]
     },
     "execution_count": 24,
     "metadata": {},
     "output_type": "execute_result"
    }
   ],
   "source": [
    "# Check the max\n",
    "\n",
    "df['gdp_per_capita ($)'].max()"
   ]
  },
  {
   "cell_type": "code",
   "execution_count": 25,
   "id": "dd953303",
   "metadata": {},
   "outputs": [
    {
     "data": {
      "text/plain": [
       "251"
      ]
     },
     "execution_count": 25,
     "metadata": {},
     "output_type": "execute_result"
    }
   ],
   "source": [
    "# Check the min\n",
    "\n",
    "df['gdp_per_capita ($)'].min()"
   ]
  },
  {
   "cell_type": "markdown",
   "id": "dea6c052",
   "metadata": {},
   "source": [
    "___\n",
    "\n",
    "### 3. Data prep for regression analysis"
   ]
  },
  {
   "cell_type": "markdown",
   "id": "a5a65d3c",
   "metadata": {},
   "source": [
    "#### A. Hypothesis: The higher the gdp_per_capita ($), the lower will be suicide rates.\n",
    "\n",
    "#### GDP per capita ($) vs. Suicide rates"
   ]
  },
  {
   "cell_type": "code",
   "execution_count": 33,
   "id": "377e37be",
   "metadata": {
    "scrolled": true
   },
   "outputs": [
    {
     "data": {
      "image/png": "[encoded data removed]",
      "text/plain": [
       "<Figure size 432x288 with 1 Axes>"
      ]
     },
     "metadata": {
      "needs_background": "light"
     },
     "output_type": "display_data"
    }
   ],
   "source": [
    "# Create a scatterplot using matplotlib for another look at how the chosen variables plot against each other.\n",
    "\n",
    "df.plot(x = 'gdp_per_capita ($)', y='suicide rate',style='o') # The style option creates a scatterplot; without it, we only have lines.\n",
    "plt.title('gdp_per_capita ($) vs suicide rate')  \n",
    "plt.xlabel('gdp_per_capita ($)')  \n",
    "plt.ylabel('suicide rate')  \n",
    "plt.show()"
   ]
  },
  {
   "cell_type": "markdown",
   "id": "6600809d",
   "metadata": {},
   "source": [
    "**Hypothesis: The higher the gdp_per_capita ($), the lower will be suicide rates.**"
   ]
  },
  {
   "cell_type": "code",
   "execution_count": 34,
   "id": "33e28c67",
   "metadata": {},
   "outputs": [],
   "source": [
    "# Reshape the variables into NumPy arrays and put them into separate objects.\n",
    "\n",
    "X = df['gdp_per_capita ($)'].values.reshape(-1,1)\n",
    "y = df['suicide rate'].values.reshape(-1,1)"
   ]
  },
  {
   "cell_type": "code",
   "execution_count": 35,
   "id": "e59b690a",
   "metadata": {},
   "outputs": [
    {
     "data": {
      "text/plain": [
       "array([[ 796],\n",
       "       [ 796],\n",
       "       [ 796],\n",
       "       ...,\n",
       "       [2309],\n",
       "       [2309],\n",
       "       [2309]])"
      ]
     },
     "execution_count": 35,
     "metadata": {},
     "output_type": "execute_result"
    }
   ],
   "source": [
    "X"
   ]
  },
  {
   "cell_type": "code",
   "execution_count": 36,
   "id": "b78b15f5",
   "metadata": {},
   "outputs": [
    {
     "data": {
      "text/plain": [
       "array([[6.71],\n",
       "       [5.19],\n",
       "       [4.83],\n",
       "       ...,\n",
       "       [2.17],\n",
       "       [1.67],\n",
       "       [1.46]])"
      ]
     },
     "execution_count": 36,
     "metadata": {},
     "output_type": "execute_result"
    }
   ],
   "source": [
    "y"
   ]
  },
  {
   "cell_type": "code",
   "execution_count": 37,
   "id": "ab6658a4",
   "metadata": {},
   "outputs": [],
   "source": [
    "# Split data into a training set and a test set.\n",
    "\n",
    "X_train, X_test, y_train, y_test = train_test_split(X, y, test_size=0.3, random_state=0)"
   ]
  },
  {
   "cell_type": "markdown",
   "id": "f5e5464a",
   "metadata": {},
   "source": [
    "___\n",
    "\n",
    "#### B. Hypothesis: The higher the HDI for year, the lower will be suicide rates.\n",
    "\n",
    "#### HDI for year vs Suicide rates"
   ]
  },
  {
   "cell_type": "code",
   "execution_count": 38,
   "id": "0e51d8c5",
   "metadata": {},
   "outputs": [
    {
     "data": {
      "image/png": "[encoded data removed]",
      "text/plain": [
       "<Figure size 432x288 with 1 Axes>"
      ]
     },
     "metadata": {
      "needs_background": "light"
     },
     "output_type": "display_data"
    }
   ],
   "source": [
    "# Create a scatterplot using matplotlib for another look at how the chosen variables plot against each other.\n",
    "\n",
    "df.plot(x = 'HDI for year', y='suicide rate',style='o') # The style option creates a scatterplot; without it, we only have lines.\n",
    "plt.title('HDI for year vs suicide rate')  \n",
    "plt.xlabel('HDI for year')  \n",
    "plt.ylabel('suicide rate')  \n",
    "plt.show()"
   ]
  },
  {
   "cell_type": "markdown",
   "id": "c3dd845b",
   "metadata": {},
   "source": [
    "**Hypothesis: The higher the HDI for year, the lower will be suicide rates.**"
   ]
  },
  {
   "cell_type": "code",
   "execution_count": 39,
   "id": "524aa91a",
   "metadata": {},
   "outputs": [],
   "source": [
    "# Reshape the variables into NumPy arrays and put them into separate objects.\n",
    "\n",
    "X2 = df['HDI for year'].values.reshape(-1,1)\n",
    "y2 = df['suicide rate'].values.reshape(-1,1)"
   ]
  },
  {
   "cell_type": "code",
   "execution_count": 40,
   "id": "ae890b93",
   "metadata": {
    "scrolled": true
   },
   "outputs": [
    {
     "data": {
      "text/plain": [
       "array([[0.77660115],\n",
       "       [0.77660115],\n",
       "       [0.77660115],\n",
       "       ...,\n",
       "       [0.675     ],\n",
       "       [0.675     ],\n",
       "       [0.675     ]])"
      ]
     },
     "execution_count": 40,
     "metadata": {},
     "output_type": "execute_result"
    }
   ],
   "source": [
    "X2"
   ]
  },
  {
   "cell_type": "code",
   "execution_count": 41,
   "id": "49baad04",
   "metadata": {
    "scrolled": true
   },
   "outputs": [
    {
     "data": {
      "text/plain": [
       "array([[6.71],\n",
       "       [5.19],\n",
       "       [4.83],\n",
       "       ...,\n",
       "       [2.17],\n",
       "       [1.67],\n",
       "       [1.46]])"
      ]
     },
     "execution_count": 41,
     "metadata": {},
     "output_type": "execute_result"
    }
   ],
   "source": [
    "y2"
   ]
  },
  {
   "cell_type": "code",
   "execution_count": 42,
   "id": "5f055075",
   "metadata": {},
   "outputs": [],
   "source": [
    "# Split data into a training set and a test set\n",
    "\n",
    "X2_train, X2_test, y2_train, y2_test = train_test_split(X2, y2, test_size=0.3, random_state=0)"
   ]
  },
  {
   "cell_type": "markdown",
   "id": "322aa30b",
   "metadata": {},
   "source": [
    "___\n",
    "\n",
    "**C. Hypothesis: The higher the gdp per capita ($), the lower will be the count of suicides.**\n",
    "\n",
    "**GDP_per_ capita($) vs count of suicides**"
   ]
  },
  {
   "cell_type": "code",
   "execution_count": 70,
   "id": "44db2dc5",
   "metadata": {},
   "outputs": [
    {
     "data": {
      "image/png": "[encoded data removed]",
      "text/plain": [
       "<Figure size 432x288 with 1 Axes>"
      ]
     },
     "metadata": {
      "needs_background": "light"
     },
     "output_type": "display_data"
    }
   ],
   "source": [
    "# Create a scatterplot using matplotlib for another look at how the chosen variables plot against each other.\n",
    "\n",
    "df.plot(x = 'gdp_per_capita ($)', y='count of suicides',style='o') # The style option creates a scatterplot; without it, we only have lines.\n",
    "plt.title('gdp_per_capita ($) vs count of suicides')  \n",
    "plt.xlabel('gdp_per_capita ($)')  \n",
    "plt.ylabel('count of suicides')  \n",
    "plt.show()"
   ]
  },
  {
   "cell_type": "code",
   "execution_count": 71,
   "id": "8d7c6675",
   "metadata": {},
   "outputs": [],
   "source": [
    "# Reshape the variables into NumPy arrays and put them into separate objects.\n",
    "\n",
    "X3 = df['gdp_per_capita ($)'].values.reshape(-1,1)\n",
    "y3 = df['count of suicides'].values.reshape(-1,1)"
   ]
  },
  {
   "cell_type": "code",
   "execution_count": 72,
   "id": "950babff",
   "metadata": {},
   "outputs": [
    {
     "data": {
      "text/plain": [
       "array([[ 796],\n",
       "       [ 796],\n",
       "       [ 796],\n",
       "       ...,\n",
       "       [2309],\n",
       "       [2309],\n",
       "       [2309]])"
      ]
     },
     "execution_count": 72,
     "metadata": {},
     "output_type": "execute_result"
    }
   ],
   "source": [
    "X3"
   ]
  },
  {
   "cell_type": "code",
   "execution_count": 73,
   "id": "30ac35b4",
   "metadata": {},
   "outputs": [
    {
     "data": {
      "text/plain": [
       "array([[21],\n",
       "       [16],\n",
       "       [14],\n",
       "       ...,\n",
       "       [60],\n",
       "       [44],\n",
       "       [21]])"
      ]
     },
     "execution_count": 73,
     "metadata": {},
     "output_type": "execute_result"
    }
   ],
   "source": [
    "y3"
   ]
  },
  {
   "cell_type": "code",
   "execution_count": 74,
   "id": "e573d0bf",
   "metadata": {},
   "outputs": [],
   "source": [
    "# Split data into a training set and a test set.\n",
    "\n",
    "X3_train, X3_test, y3_train, y3_test = train_test_split(X3, y3, test_size=0.3, random_state=0)"
   ]
  },
  {
   "cell_type": "markdown",
   "id": "3a47ea72",
   "metadata": {},
   "source": [
    "___"
   ]
  },
  {
   "cell_type": "markdown",
   "id": "629f3a64",
   "metadata": {},
   "source": [
    "**D. Hypothesis: The higher the population, the higher will be the count of suicides.**\n",
    "\n",
    "**Population vs count of suicides**"
   ]
  },
  {
   "cell_type": "code",
   "execution_count": 79,
   "id": "7b6417f8",
   "metadata": {},
   "outputs": [
    {
     "data": {
      "image/png": "[encoded data removed]",
      "text/plain": [
       "<Figure size 432x288 with 1 Axes>"
      ]
     },
     "metadata": {
      "needs_background": "light"
     },
     "output_type": "display_data"
    }
   ],
   "source": [
    "# Create a scatterplot using matplotlib for another look at how the chosen variables plot against each other.\n",
    "\n",
    "df.plot(x = 'population', y='count of suicides',style='o') # The style option creates a scatterplot; without it, we only have lines.\n",
    "plt.title('population vs count of suicides')  \n",
    "plt.xlabel('population')  \n",
    "plt.ylabel('count of suicides')  \n",
    "plt.show()"
   ]
  },
  {
   "cell_type": "code",
   "execution_count": 80,
   "id": "490c22d0",
   "metadata": {},
   "outputs": [],
   "source": [
    "# Reshape the variables into NumPy arrays and put them into separate objects.\n",
    "\n",
    "X4 = df['population'].values.reshape(-1,1)\n",
    "y4 = df['count of suicides'].values.reshape(-1,1)"
   ]
  },
  {
   "cell_type": "code",
   "execution_count": 81,
   "id": "e820a502",
   "metadata": {},
   "outputs": [
    {
     "data": {
      "text/plain": [
       "array([[ 312900],\n",
       "       [ 308000],\n",
       "       [ 289700],\n",
       "       ...,\n",
       "       [2762158],\n",
       "       [2631600],\n",
       "       [1438935]])"
      ]
     },
     "execution_count": 81,
     "metadata": {},
     "output_type": "execute_result"
    }
   ],
   "source": [
    "X4"
   ]
  },
  {
   "cell_type": "code",
   "execution_count": 82,
   "id": "fafcfa64",
   "metadata": {},
   "outputs": [
    {
     "data": {
      "text/plain": [
       "array([[21],\n",
       "       [16],\n",
       "       [14],\n",
       "       ...,\n",
       "       [60],\n",
       "       [44],\n",
       "       [21]])"
      ]
     },
     "execution_count": 82,
     "metadata": {},
     "output_type": "execute_result"
    }
   ],
   "source": [
    "y4"
   ]
  },
  {
   "cell_type": "code",
   "execution_count": 83,
   "id": "98b29e1e",
   "metadata": {},
   "outputs": [],
   "source": [
    "# Split data into a training set and a test set.\n",
    "\n",
    "X4_train, X4_test, y4_train, y4_test = train_test_split(X4, y4, test_size=0.3, random_state=0)"
   ]
  },
  {
   "cell_type": "markdown",
   "id": "4be1267c",
   "metadata": {},
   "source": [
    "___"
   ]
  },
  {
   "cell_type": "markdown",
   "id": "8f2d0684",
   "metadata": {},
   "source": [
    "___\n",
    "\n",
    "### 4. Regression Analysis"
   ]
  },
  {
   "cell_type": "markdown",
   "id": "7c365768",
   "metadata": {},
   "source": [
    "**A. GDP per capita ($) vs. Suicide rates** "
   ]
  },
  {
   "cell_type": "code",
   "execution_count": 43,
   "id": "f373c856",
   "metadata": {},
   "outputs": [],
   "source": [
    "# Create a regression object.\n",
    "\n",
    "regression = LinearRegression()"
   ]
  },
  {
   "cell_type": "code",
   "execution_count": 44,
   "id": "9baa80bd",
   "metadata": {},
   "outputs": [
    {
     "data": {
      "text/plain": [
       "LinearRegression()"
      ]
     },
     "execution_count": 44,
     "metadata": {},
     "output_type": "execute_result"
    }
   ],
   "source": [
    "# Fit the regression object onto the training set.\n",
    "\n",
    "regression.fit(X_train, y_train)"
   ]
  },
  {
   "cell_type": "code",
   "execution_count": 45,
   "id": "6542924d",
   "metadata": {},
   "outputs": [],
   "source": [
    "# Predict the values of y using X.\n",
    "\n",
    "y_predicted = regression.predict(X_test)"
   ]
  },
  {
   "cell_type": "code",
   "execution_count": 46,
   "id": "2907f931",
   "metadata": {},
   "outputs": [
    {
     "data": {
      "image/png": "[encoded data removed]",
      "text/plain": [
       "<Figure size 432x288 with 1 Axes>"
      ]
     },
     "metadata": {
      "needs_background": "light"
     },
     "output_type": "display_data"
    }
   ],
   "source": [
    "# Create a plot that shows the regression line from the model on the test set.\n",
    "\n",
    "plot_test = plt\n",
    "plot_test.scatter(X_test, y_test, color='gray', s = 15)\n",
    "plot_test.plot(X_test, y_predicted, color='red', linewidth =3)\n",
    "plot_test.title('GDP per capita ($) vs. Suicide rates (Test set)')\n",
    "plot_test.xlabel('GDP per capita ($)')\n",
    "plot_test.ylabel('Suicide rates')\n",
    "plot_test.show()"
   ]
  },
  {
   "cell_type": "code",
   "execution_count": 47,
   "id": "47e89ca8",
   "metadata": {},
   "outputs": [],
   "source": [
    "# Create objects that contain the model summary statistics.\n",
    "\n",
    "rmse = mean_squared_error(y_test, y_predicted)\n",
    "r2 = r2_score(y_test, y_predicted)"
   ]
  },
  {
   "cell_type": "code",
   "execution_count": 48,
   "id": "ab66c843",
   "metadata": {},
   "outputs": [
    {
     "name": "stdout",
     "output_type": "stream",
     "text": [
      "Slope: [[3.61746751e-06]]\n",
      "Mean squared error:  346.9700583671453\n",
      "R2 score:  -0.0005866175749895675\n"
     ]
    }
   ],
   "source": [
    "# print the model summary statistics\n",
    "\n",
    "print('Slope:' ,regression.coef_)\n",
    "print('Mean squared error: ', rmse)\n",
    "print('R2 score: ', r2)"
   ]
  },
  {
   "cell_type": "markdown",
   "id": "e75c0a60",
   "metadata": {},
   "source": [
    "**It is a straight line meaning that there is no relationship between these two variables as per the regression analysis. However, looking at the graph, we can clearly see that there is a negative relationship. The MSE is high at 346, so the regression line is not an exact representation of the data. The R2 score of -0.0000586 shows that the model fits worse than a horizontal line.** "
   ]
  },
  {
   "cell_type": "code",
   "execution_count": 49,
   "id": "50f3fa6f",
   "metadata": {},
   "outputs": [
    {
     "data": {
      "text/plain": [
       "array([[12.8965924 ],\n",
       "       [12.97279435],\n",
       "       [12.92197978],\n",
       "       ...,\n",
       "       [12.90948505],\n",
       "       [12.94213631],\n",
       "       [13.05624932]])"
      ]
     },
     "execution_count": 49,
     "metadata": {},
     "output_type": "execute_result"
    }
   ],
   "source": [
    "y_predicted"
   ]
  },
  {
   "cell_type": "code",
   "execution_count": 50,
   "id": "6954466f",
   "metadata": {},
   "outputs": [
    {
     "data": {
      "text/html": [
       "<div>\n",
       "<style scoped>\n",
       "    .dataframe tbody tr th:only-of-type {\n",
       "        vertical-align: middle;\n",
       "    }\n",
       "\n",
       "    .dataframe tbody tr th {\n",
       "        vertical-align: top;\n",
       "    }\n",
       "\n",
       "    .dataframe thead th {\n",
       "        text-align: right;\n",
       "    }\n",
       "</style>\n",
       "<table border=\"1\" class=\"dataframe\">\n",
       "  <thead>\n",
       "    <tr style=\"text-align: right;\">\n",
       "      <th></th>\n",
       "      <th>Actual</th>\n",
       "      <th>Predicted</th>\n",
       "    </tr>\n",
       "  </thead>\n",
       "  <tbody>\n",
       "    <tr>\n",
       "      <th>0</th>\n",
       "      <td>10.31</td>\n",
       "      <td>12.896592</td>\n",
       "    </tr>\n",
       "    <tr>\n",
       "      <th>1</th>\n",
       "      <td>42.77</td>\n",
       "      <td>12.972794</td>\n",
       "    </tr>\n",
       "    <tr>\n",
       "      <th>2</th>\n",
       "      <td>0.88</td>\n",
       "      <td>12.921980</td>\n",
       "    </tr>\n",
       "    <tr>\n",
       "      <th>3</th>\n",
       "      <td>43.67</td>\n",
       "      <td>12.890522</td>\n",
       "    </tr>\n",
       "    <tr>\n",
       "      <th>4</th>\n",
       "      <td>8.87</td>\n",
       "      <td>12.899696</td>\n",
       "    </tr>\n",
       "    <tr>\n",
       "      <th>5</th>\n",
       "      <td>4.00</td>\n",
       "      <td>12.891470</td>\n",
       "    </tr>\n",
       "    <tr>\n",
       "      <th>6</th>\n",
       "      <td>1.35</td>\n",
       "      <td>12.955763</td>\n",
       "    </tr>\n",
       "    <tr>\n",
       "      <th>7</th>\n",
       "      <td>44.31</td>\n",
       "      <td>12.991967</td>\n",
       "    </tr>\n",
       "    <tr>\n",
       "      <th>8</th>\n",
       "      <td>2.33</td>\n",
       "      <td>12.905459</td>\n",
       "    </tr>\n",
       "    <tr>\n",
       "      <th>9</th>\n",
       "      <td>0.40</td>\n",
       "      <td>13.091125</td>\n",
       "    </tr>\n",
       "    <tr>\n",
       "      <th>10</th>\n",
       "      <td>28.65</td>\n",
       "      <td>12.892222</td>\n",
       "    </tr>\n",
       "    <tr>\n",
       "      <th>11</th>\n",
       "      <td>0.89</td>\n",
       "      <td>12.917823</td>\n",
       "    </tr>\n",
       "    <tr>\n",
       "      <th>12</th>\n",
       "      <td>0.00</td>\n",
       "      <td>12.966164</td>\n",
       "    </tr>\n",
       "    <tr>\n",
       "      <th>13</th>\n",
       "      <td>22.88</td>\n",
       "      <td>12.926853</td>\n",
       "    </tr>\n",
       "    <tr>\n",
       "      <th>14</th>\n",
       "      <td>33.80</td>\n",
       "      <td>12.949965</td>\n",
       "    </tr>\n",
       "    <tr>\n",
       "      <th>15</th>\n",
       "      <td>0.81</td>\n",
       "      <td>13.044876</td>\n",
       "    </tr>\n",
       "    <tr>\n",
       "      <th>16</th>\n",
       "      <td>14.83</td>\n",
       "      <td>12.891506</td>\n",
       "    </tr>\n",
       "    <tr>\n",
       "      <th>17</th>\n",
       "      <td>17.68</td>\n",
       "      <td>13.031180</td>\n",
       "    </tr>\n",
       "    <tr>\n",
       "      <th>18</th>\n",
       "      <td>34.45</td>\n",
       "      <td>13.053185</td>\n",
       "    </tr>\n",
       "    <tr>\n",
       "      <th>19</th>\n",
       "      <td>5.13</td>\n",
       "      <td>12.894787</td>\n",
       "    </tr>\n",
       "    <tr>\n",
       "      <th>20</th>\n",
       "      <td>0.00</td>\n",
       "      <td>12.925977</td>\n",
       "    </tr>\n",
       "    <tr>\n",
       "      <th>21</th>\n",
       "      <td>29.99</td>\n",
       "      <td>12.969152</td>\n",
       "    </tr>\n",
       "    <tr>\n",
       "      <th>22</th>\n",
       "      <td>10.99</td>\n",
       "      <td>12.974853</td>\n",
       "    </tr>\n",
       "    <tr>\n",
       "      <th>23</th>\n",
       "      <td>20.24</td>\n",
       "      <td>13.061050</td>\n",
       "    </tr>\n",
       "    <tr>\n",
       "      <th>24</th>\n",
       "      <td>4.13</td>\n",
       "      <td>12.892190</td>\n",
       "    </tr>\n",
       "    <tr>\n",
       "      <th>25</th>\n",
       "      <td>0.00</td>\n",
       "      <td>12.903462</td>\n",
       "    </tr>\n",
       "    <tr>\n",
       "      <th>26</th>\n",
       "      <td>5.60</td>\n",
       "      <td>12.975811</td>\n",
       "    </tr>\n",
       "    <tr>\n",
       "      <th>27</th>\n",
       "      <td>9.34</td>\n",
       "      <td>12.908226</td>\n",
       "    </tr>\n",
       "    <tr>\n",
       "      <th>28</th>\n",
       "      <td>8.48</td>\n",
       "      <td>12.928726</td>\n",
       "    </tr>\n",
       "    <tr>\n",
       "      <th>29</th>\n",
       "      <td>0.34</td>\n",
       "      <td>12.896969</td>\n",
       "    </tr>\n",
       "  </tbody>\n",
       "</table>\n",
       "</div>"
      ],
      "text/plain": [
       "    Actual  Predicted\n",
       "0    10.31  12.896592\n",
       "1    42.77  12.972794\n",
       "2     0.88  12.921980\n",
       "3    43.67  12.890522\n",
       "4     8.87  12.899696\n",
       "5     4.00  12.891470\n",
       "6     1.35  12.955763\n",
       "7    44.31  12.991967\n",
       "8     2.33  12.905459\n",
       "9     0.40  13.091125\n",
       "10   28.65  12.892222\n",
       "11    0.89  12.917823\n",
       "12    0.00  12.966164\n",
       "13   22.88  12.926853\n",
       "14   33.80  12.949965\n",
       "15    0.81  13.044876\n",
       "16   14.83  12.891506\n",
       "17   17.68  13.031180\n",
       "18   34.45  13.053185\n",
       "19    5.13  12.894787\n",
       "20    0.00  12.925977\n",
       "21   29.99  12.969152\n",
       "22   10.99  12.974853\n",
       "23   20.24  13.061050\n",
       "24    4.13  12.892190\n",
       "25    0.00  12.903462\n",
       "26    5.60  12.975811\n",
       "27    9.34  12.908226\n",
       "28    8.48  12.928726\n",
       "29    0.34  12.896969"
      ]
     },
     "execution_count": 50,
     "metadata": {},
     "output_type": "execute_result"
    }
   ],
   "source": [
    "# create a dataframe comparing the actual and predicted values of Y.\n",
    "\n",
    "data = pd.DataFrame({'Actual': y_test.flatten(), 'Predicted': y_predicted.flatten()})\n",
    "data.head(30)"
   ]
  },
  {
   "cell_type": "markdown",
   "id": "a38b1425",
   "metadata": {},
   "source": [
    "##### Compare how the regression fits the training set"
   ]
  },
  {
   "cell_type": "code",
   "execution_count": 51,
   "id": "adc3d457",
   "metadata": {},
   "outputs": [],
   "source": [
    "# predict\n",
    "\n",
    "y_predicted_train = regression.predict(X_train) "
   ]
  },
  {
   "cell_type": "code",
   "execution_count": 52,
   "id": "1a1db38d",
   "metadata": {},
   "outputs": [],
   "source": [
    "rmse = mean_squared_error(y_train, y_predicted_train)\n",
    "r2 = r2_score(y_train, y_predicted_train)"
   ]
  },
  {
   "cell_type": "code",
   "execution_count": 53,
   "id": "db6475f9",
   "metadata": {},
   "outputs": [
    {
     "name": "stdout",
     "output_type": "stream",
     "text": [
      "Slope: [[3.61746751e-06]]\n",
      "Mean squared error:  364.9318643648967\n",
      "R2 score:  1.27380524453935e-05\n"
     ]
    }
   ],
   "source": [
    "print('Slope:' ,regression.coef_)\n",
    "print('Mean squared error: ', rmse)\n",
    "print('R2 score: ', r2)"
   ]
  },
  {
   "cell_type": "code",
   "execution_count": 56,
   "id": "dc3e64ef",
   "metadata": {},
   "outputs": [
    {
     "data": {
      "image/png": "[encoded data removed]",
      "text/plain": [
       "<Figure size 432x288 with 1 Axes>"
      ]
     },
     "metadata": {
      "needs_background": "light"
     },
     "output_type": "display_data"
    }
   ],
   "source": [
    "# Visualizing the training set results.\n",
    "\n",
    "plot_test = plt\n",
    "plot_test.scatter(X_train, y_train, color='green', s = 15)\n",
    "plot_test.plot(X_train, y_predicted_train, color='red', linewidth =3)\n",
    "plot_test.title('GDP per capita ($) vs. Suicide rates (Train set)')\n",
    "plot_test.xlabel('gdp_per_capita ($)')\n",
    "plot_test.ylabel('Suicide rates')\n",
    "plot_test.show()"
   ]
  },
  {
   "cell_type": "markdown",
   "id": "b069102f",
   "metadata": {},
   "source": [
    "**B. HDI for year vs Suicide rates**"
   ]
  },
  {
   "cell_type": "code",
   "execution_count": 57,
   "id": "9b46ae32",
   "metadata": {},
   "outputs": [],
   "source": [
    "# Create a regression object.\n",
    "\n",
    "regression = LinearRegression()"
   ]
  },
  {
   "cell_type": "code",
   "execution_count": 58,
   "id": "81b0c560",
   "metadata": {},
   "outputs": [
    {
     "data": {
      "text/plain": [
       "LinearRegression()"
      ]
     },
     "execution_count": 58,
     "metadata": {},
     "output_type": "execute_result"
    }
   ],
   "source": [
    "# fit the regression object onto the training set\n",
    "\n",
    "regression.fit(X2_train, y2_train)"
   ]
  },
  {
   "cell_type": "code",
   "execution_count": 59,
   "id": "cee0bce6",
   "metadata": {},
   "outputs": [],
   "source": [
    "# predict the values of y using X\n",
    "\n",
    "y2_predicted = regression.predict(X2_test)"
   ]
  },
  {
   "cell_type": "code",
   "execution_count": 60,
   "id": "8f72663e",
   "metadata": {},
   "outputs": [
    {
     "data": {
      "image/png": "[encoded data removed]",
      "text/plain": [
       "<Figure size 432x288 with 1 Axes>"
      ]
     },
     "metadata": {
      "needs_background": "light"
     },
     "output_type": "display_data"
    }
   ],
   "source": [
    "# create a plot that shows the regression line from the model on the test set\n",
    "\n",
    "plot_test = plt\n",
    "plot_test.scatter(X2_test, y2_test, color='gray', s = 15)\n",
    "plot_test.plot(X2_test, y2_predicted, color='red', linewidth =3)\n",
    "plot_test.title('HDI for year vs Suicide rates (Test set)')\n",
    "plot_test.xlabel('HDI for year')\n",
    "plot_test.ylabel('Suicide rates')\n",
    "plot_test.show()"
   ]
  },
  {
   "cell_type": "code",
   "execution_count": 61,
   "id": "d42e5ae1",
   "metadata": {},
   "outputs": [],
   "source": [
    "# create objects that contain the model summary statistics\n",
    "\n",
    "rmse = mean_squared_error(y2_test, y2_predicted) \n",
    "r2 = r2_score(y2_test, y2_predicted)"
   ]
  },
  {
   "cell_type": "code",
   "execution_count": 62,
   "id": "8213903d",
   "metadata": {},
   "outputs": [
    {
     "name": "stdout",
     "output_type": "stream",
     "text": [
      "Slope: [[15.09938097]]\n",
      "Mean squared error:  346.673770178952\n",
      "R2 score:  0.00026781348873661237\n"
     ]
    }
   ],
   "source": [
    "# print the model summary statistics\n",
    "\n",
    "print('Slope:' ,regression.coef_)\n",
    "print('Mean squared error: ', rmse)\n",
    "print('R2 score: ', r2)"
   ]
  },
  {
   "cell_type": "markdown",
   "id": "0179313f",
   "metadata": {},
   "source": [
    "**The slope falls flat indicating a weak positive relationship. The MSE is high at 346.6, so the regression line is not an exact representation of the data. The R2 score of 0.0002 represents a poor fit.**"
   ]
  },
  {
   "cell_type": "code",
   "execution_count": 63,
   "id": "56b9e7d7",
   "metadata": {},
   "outputs": [
    {
     "data": {
      "text/plain": [
       "array([[11.09003799],\n",
       "       [14.47229932],\n",
       "       [12.94123942],\n",
       "       ...,\n",
       "       [11.34672746],\n",
       "       [13.20395132],\n",
       "       [12.94123942]])"
      ]
     },
     "execution_count": 63,
     "metadata": {},
     "output_type": "execute_result"
    }
   ],
   "source": [
    "y2_predicted"
   ]
  },
  {
   "cell_type": "code",
   "execution_count": 64,
   "id": "2f0a55b5",
   "metadata": {},
   "outputs": [
    {
     "data": {
      "text/html": [
       "<div>\n",
       "<style scoped>\n",
       "    .dataframe tbody tr th:only-of-type {\n",
       "        vertical-align: middle;\n",
       "    }\n",
       "\n",
       "    .dataframe tbody tr th {\n",
       "        vertical-align: top;\n",
       "    }\n",
       "\n",
       "    .dataframe thead th {\n",
       "        text-align: right;\n",
       "    }\n",
       "</style>\n",
       "<table border=\"1\" class=\"dataframe\">\n",
       "  <thead>\n",
       "    <tr style=\"text-align: right;\">\n",
       "      <th></th>\n",
       "      <th>Actual</th>\n",
       "      <th>Predicted</th>\n",
       "    </tr>\n",
       "  </thead>\n",
       "  <tbody>\n",
       "    <tr>\n",
       "      <th>0</th>\n",
       "      <td>10.31</td>\n",
       "      <td>11.090038</td>\n",
       "    </tr>\n",
       "    <tr>\n",
       "      <th>1</th>\n",
       "      <td>42.77</td>\n",
       "      <td>14.472299</td>\n",
       "    </tr>\n",
       "    <tr>\n",
       "      <th>2</th>\n",
       "      <td>0.88</td>\n",
       "      <td>12.941239</td>\n",
       "    </tr>\n",
       "    <tr>\n",
       "      <th>3</th>\n",
       "      <td>43.67</td>\n",
       "      <td>12.941239</td>\n",
       "    </tr>\n",
       "    <tr>\n",
       "      <th>4</th>\n",
       "      <td>8.87</td>\n",
       "      <td>12.941239</td>\n",
       "    </tr>\n",
       "    <tr>\n",
       "      <th>5</th>\n",
       "      <td>4.00</td>\n",
       "      <td>12.941239</td>\n",
       "    </tr>\n",
       "    <tr>\n",
       "      <th>6</th>\n",
       "      <td>1.35</td>\n",
       "      <td>13.354945</td>\n",
       "    </tr>\n",
       "    <tr>\n",
       "      <th>7</th>\n",
       "      <td>44.31</td>\n",
       "      <td>12.941239</td>\n",
       "    </tr>\n",
       "    <tr>\n",
       "      <th>8</th>\n",
       "      <td>2.33</td>\n",
       "      <td>12.041299</td>\n",
       "    </tr>\n",
       "    <tr>\n",
       "      <th>9</th>\n",
       "      <td>0.40</td>\n",
       "      <td>12.941239</td>\n",
       "    </tr>\n",
       "    <tr>\n",
       "      <th>10</th>\n",
       "      <td>28.65</td>\n",
       "      <td>12.941239</td>\n",
       "    </tr>\n",
       "    <tr>\n",
       "      <th>11</th>\n",
       "      <td>0.89</td>\n",
       "      <td>12.941239</td>\n",
       "    </tr>\n",
       "    <tr>\n",
       "      <th>12</th>\n",
       "      <td>0.00</td>\n",
       "      <td>12.941239</td>\n",
       "    </tr>\n",
       "    <tr>\n",
       "      <th>13</th>\n",
       "      <td>22.88</td>\n",
       "      <td>12.947262</td>\n",
       "    </tr>\n",
       "    <tr>\n",
       "      <th>14</th>\n",
       "      <td>33.80</td>\n",
       "      <td>12.941239</td>\n",
       "    </tr>\n",
       "    <tr>\n",
       "      <th>15</th>\n",
       "      <td>0.81</td>\n",
       "      <td>12.941239</td>\n",
       "    </tr>\n",
       "    <tr>\n",
       "      <th>16</th>\n",
       "      <td>14.83</td>\n",
       "      <td>12.941239</td>\n",
       "    </tr>\n",
       "    <tr>\n",
       "      <th>17</th>\n",
       "      <td>17.68</td>\n",
       "      <td>12.941239</td>\n",
       "    </tr>\n",
       "    <tr>\n",
       "      <th>18</th>\n",
       "      <td>34.45</td>\n",
       "      <td>13.868324</td>\n",
       "    </tr>\n",
       "    <tr>\n",
       "      <th>19</th>\n",
       "      <td>5.13</td>\n",
       "      <td>12.941239</td>\n",
       "    </tr>\n",
       "    <tr>\n",
       "      <th>20</th>\n",
       "      <td>0.00</td>\n",
       "      <td>12.941239</td>\n",
       "    </tr>\n",
       "    <tr>\n",
       "      <th>21</th>\n",
       "      <td>29.99</td>\n",
       "      <td>12.941239</td>\n",
       "    </tr>\n",
       "    <tr>\n",
       "      <th>22</th>\n",
       "      <td>10.99</td>\n",
       "      <td>13.853225</td>\n",
       "    </tr>\n",
       "    <tr>\n",
       "      <th>23</th>\n",
       "      <td>20.24</td>\n",
       "      <td>14.562896</td>\n",
       "    </tr>\n",
       "    <tr>\n",
       "      <th>24</th>\n",
       "      <td>4.13</td>\n",
       "      <td>12.941239</td>\n",
       "    </tr>\n",
       "    <tr>\n",
       "      <th>25</th>\n",
       "      <td>0.00</td>\n",
       "      <td>12.941239</td>\n",
       "    </tr>\n",
       "    <tr>\n",
       "      <th>26</th>\n",
       "      <td>5.60</td>\n",
       "      <td>12.941239</td>\n",
       "    </tr>\n",
       "    <tr>\n",
       "      <th>27</th>\n",
       "      <td>9.34</td>\n",
       "      <td>12.941239</td>\n",
       "    </tr>\n",
       "    <tr>\n",
       "      <th>28</th>\n",
       "      <td>8.48</td>\n",
       "      <td>12.941239</td>\n",
       "    </tr>\n",
       "    <tr>\n",
       "      <th>29</th>\n",
       "      <td>0.34</td>\n",
       "      <td>12.941239</td>\n",
       "    </tr>\n",
       "  </tbody>\n",
       "</table>\n",
       "</div>"
      ],
      "text/plain": [
       "    Actual  Predicted\n",
       "0    10.31  11.090038\n",
       "1    42.77  14.472299\n",
       "2     0.88  12.941239\n",
       "3    43.67  12.941239\n",
       "4     8.87  12.941239\n",
       "5     4.00  12.941239\n",
       "6     1.35  13.354945\n",
       "7    44.31  12.941239\n",
       "8     2.33  12.041299\n",
       "9     0.40  12.941239\n",
       "10   28.65  12.941239\n",
       "11    0.89  12.941239\n",
       "12    0.00  12.941239\n",
       "13   22.88  12.947262\n",
       "14   33.80  12.941239\n",
       "15    0.81  12.941239\n",
       "16   14.83  12.941239\n",
       "17   17.68  12.941239\n",
       "18   34.45  13.868324\n",
       "19    5.13  12.941239\n",
       "20    0.00  12.941239\n",
       "21   29.99  12.941239\n",
       "22   10.99  13.853225\n",
       "23   20.24  14.562896\n",
       "24    4.13  12.941239\n",
       "25    0.00  12.941239\n",
       "26    5.60  12.941239\n",
       "27    9.34  12.941239\n",
       "28    8.48  12.941239\n",
       "29    0.34  12.941239"
      ]
     },
     "execution_count": 64,
     "metadata": {},
     "output_type": "execute_result"
    }
   ],
   "source": [
    "# create a dataframe comparing the actual and predicted values of Y.\n",
    "\n",
    "data = pd.DataFrame({'Actual': y2_test.flatten(), 'Predicted': y2_predicted.flatten()})\n",
    "data.head(30)"
   ]
  },
  {
   "cell_type": "markdown",
   "id": "5018c5f9",
   "metadata": {},
   "source": [
    "##### Compare how the regression fits the training set"
   ]
  },
  {
   "cell_type": "code",
   "execution_count": 65,
   "id": "d63a6c7a",
   "metadata": {},
   "outputs": [],
   "source": [
    "# predict\n",
    "\n",
    "y2_predicted_train = regression.predict(X2_train)"
   ]
  },
  {
   "cell_type": "code",
   "execution_count": 66,
   "id": "98333418",
   "metadata": {},
   "outputs": [],
   "source": [
    "rmse = mean_squared_error(y2_train, y2_predicted_train)\n",
    "r2 = r2_score(y2_train, y2_predicted_train)"
   ]
  },
  {
   "cell_type": "code",
   "execution_count": 67,
   "id": "5ed0aa19",
   "metadata": {},
   "outputs": [
    {
     "name": "stdout",
     "output_type": "stream",
     "text": [
      "Slope: [[15.09938097]]\n",
      "Mean squared error:  364.348424110958\n",
      "R2 score:  0.0016114825826374357\n"
     ]
    }
   ],
   "source": [
    "print('Slope:' ,regression.coef_)\n",
    "print('Mean squared error: ', rmse)\n",
    "print('R2 score: ', r2)"
   ]
  },
  {
   "cell_type": "code",
   "execution_count": 68,
   "id": "935fe94c",
   "metadata": {},
   "outputs": [
    {
     "data": {
      "image/png": "[encoded data removed]",
      "text/plain": [
       "<Figure size 432x288 with 1 Axes>"
      ]
     },
     "metadata": {
      "needs_background": "light"
     },
     "output_type": "display_data"
    }
   ],
   "source": [
    "# visualizing the training set results\n",
    "\n",
    "plot_test = plt\n",
    "plot_test.scatter(X2_train, y2_train, color='green', s = 15)\n",
    "plot_test.plot(X2_train, y2_predicted_train, color='red', linewidth =3)\n",
    "plot_test.title('HDI for year vs Suicide rates (Train set)')\n",
    "plot_test.xlabel('HDI for year')\n",
    "plot_test.ylabel('Suicide rates')\n",
    "plot_test.show()"
   ]
  },
  {
   "cell_type": "markdown",
   "id": "083ee962",
   "metadata": {},
   "source": [
    "___"
   ]
  },
  {
   "cell_type": "markdown",
   "id": "79421628",
   "metadata": {},
   "source": [
    "**C. GDP_per_ capita($) vs count of suicides**"
   ]
  },
  {
   "cell_type": "code",
   "execution_count": 75,
   "id": "8b3654bd",
   "metadata": {},
   "outputs": [],
   "source": [
    "# Create a regression object.\n",
    "\n",
    "regression = LinearRegression()"
   ]
  },
  {
   "cell_type": "code",
   "execution_count": 76,
   "id": "e0433d1b",
   "metadata": {},
   "outputs": [
    {
     "data": {
      "text/plain": [
       "LinearRegression()"
      ]
     },
     "execution_count": 76,
     "metadata": {},
     "output_type": "execute_result"
    }
   ],
   "source": [
    "# Fit the regression object onto the training set\n",
    "\n",
    "regression.fit(X3_train, y3_train)"
   ]
  },
  {
   "cell_type": "code",
   "execution_count": 77,
   "id": "2d3a24a4",
   "metadata": {},
   "outputs": [],
   "source": [
    "# predict the values of y using X\n",
    "\n",
    "y3_predicted = regression.predict(X3_test)"
   ]
  },
  {
   "cell_type": "code",
   "execution_count": 78,
   "id": "b947bfe6",
   "metadata": {
    "scrolled": true
   },
   "outputs": [
    {
     "data": {
      "image/png": "[encoded data removed]",
      "text/plain": [
       "<Figure size 432x288 with 1 Axes>"
      ]
     },
     "metadata": {
      "needs_background": "light"
     },
     "output_type": "display_data"
    }
   ],
   "source": [
    "# create a plot that shows the regression line from the model on the test set\n",
    "\n",
    "plot_test = plt\n",
    "plot_test.scatter(X3_test, y3_test, color='gray', s = 15)\n",
    "plot_test.plot(X3_test, y3_predicted, color='red', linewidth =3)\n",
    "plot_test.title('GDP_per_ capita($) vs count of suicides (Test set)')\n",
    "plot_test.xlabel('gdp_per_ capita($)')\n",
    "plot_test.ylabel('count of suicides')\n",
    "plot_test.show()"
   ]
  },
  {
   "cell_type": "code",
   "execution_count": 98,
   "id": "05263a73",
   "metadata": {},
   "outputs": [],
   "source": [
    "# create objects that contain the model summary statistics\n",
    "\n",
    "rmse = mean_squared_error(y3_test, y3_predicted) \n",
    "r2 = r2_score(y3_test, y3_predicted)"
   ]
  },
  {
   "cell_type": "code",
   "execution_count": 99,
   "id": "3c49c4f8",
   "metadata": {},
   "outputs": [
    {
     "name": "stdout",
     "output_type": "stream",
     "text": [
      "Slope: [[0.00014528]]\n",
      "Mean squared error:  652600.3189866436\n",
      "R2 score:  0.004250345804310718\n"
     ]
    }
   ],
   "source": [
    "# print the model summary statistics\n",
    "\n",
    "print('Slope:' ,regression.coef_)\n",
    "print('Mean squared error: ', rmse)\n",
    "print('R2 score: ', r2)"
   ]
  },
  {
   "cell_type": "code",
   "execution_count": 100,
   "id": "5ab86d21",
   "metadata": {},
   "outputs": [
    {
     "data": {
      "text/html": [
       "<div>\n",
       "<style scoped>\n",
       "    .dataframe tbody tr th:only-of-type {\n",
       "        vertical-align: middle;\n",
       "    }\n",
       "\n",
       "    .dataframe tbody tr th {\n",
       "        vertical-align: top;\n",
       "    }\n",
       "\n",
       "    .dataframe thead th {\n",
       "        text-align: right;\n",
       "    }\n",
       "</style>\n",
       "<table border=\"1\" class=\"dataframe\">\n",
       "  <thead>\n",
       "    <tr style=\"text-align: right;\">\n",
       "      <th></th>\n",
       "      <th>Actual</th>\n",
       "      <th>Predicted</th>\n",
       "    </tr>\n",
       "  </thead>\n",
       "  <tbody>\n",
       "    <tr>\n",
       "      <th>0</th>\n",
       "      <td>453</td>\n",
       "      <td>205.822170</td>\n",
       "    </tr>\n",
       "    <tr>\n",
       "      <th>1</th>\n",
       "      <td>134</td>\n",
       "      <td>267.743982</td>\n",
       "    </tr>\n",
       "    <tr>\n",
       "      <th>2</th>\n",
       "      <td>38</td>\n",
       "      <td>226.451995</td>\n",
       "    </tr>\n",
       "    <tr>\n",
       "      <th>3</th>\n",
       "      <td>650</td>\n",
       "      <td>200.889590</td>\n",
       "    </tr>\n",
       "    <tr>\n",
       "      <th>4</th>\n",
       "      <td>1</td>\n",
       "      <td>208.344312</td>\n",
       "    </tr>\n",
       "    <tr>\n",
       "      <th>5</th>\n",
       "      <td>16</td>\n",
       "      <td>201.659754</td>\n",
       "    </tr>\n",
       "    <tr>\n",
       "      <th>6</th>\n",
       "      <td>2</td>\n",
       "      <td>253.904538</td>\n",
       "    </tr>\n",
       "    <tr>\n",
       "      <th>7</th>\n",
       "      <td>721</td>\n",
       "      <td>283.323645</td>\n",
       "    </tr>\n",
       "    <tr>\n",
       "      <th>8</th>\n",
       "      <td>39</td>\n",
       "      <td>213.027029</td>\n",
       "    </tr>\n",
       "    <tr>\n",
       "      <th>9</th>\n",
       "      <td>2</td>\n",
       "      <td>363.899898</td>\n",
       "    </tr>\n",
       "    <tr>\n",
       "      <th>10</th>\n",
       "      <td>208</td>\n",
       "      <td>202.271183</td>\n",
       "    </tr>\n",
       "    <tr>\n",
       "      <th>11</th>\n",
       "      <td>31</td>\n",
       "      <td>223.074442</td>\n",
       "    </tr>\n",
       "    <tr>\n",
       "      <th>12</th>\n",
       "      <td>0</td>\n",
       "      <td>262.355770</td>\n",
       "    </tr>\n",
       "    <tr>\n",
       "      <th>13</th>\n",
       "      <td>41</td>\n",
       "      <td>230.411582</td>\n",
       "    </tr>\n",
       "    <tr>\n",
       "      <th>14</th>\n",
       "      <td>423</td>\n",
       "      <td>249.192424</td>\n",
       "    </tr>\n",
       "    <tr>\n",
       "      <th>15</th>\n",
       "      <td>2</td>\n",
       "      <td>326.317636</td>\n",
       "    </tr>\n",
       "    <tr>\n",
       "      <th>16</th>\n",
       "      <td>940</td>\n",
       "      <td>201.689150</td>\n",
       "    </tr>\n",
       "    <tr>\n",
       "      <th>17</th>\n",
       "      <td>2941</td>\n",
       "      <td>315.188465</td>\n",
       "    </tr>\n",
       "    <tr>\n",
       "      <th>18</th>\n",
       "      <td>1582</td>\n",
       "      <td>333.069803</td>\n",
       "    </tr>\n",
       "    <tr>\n",
       "      <th>19</th>\n",
       "      <td>117</td>\n",
       "      <td>204.355330</td>\n",
       "    </tr>\n",
       "    <tr>\n",
       "      <th>20</th>\n",
       "      <td>0</td>\n",
       "      <td>229.700208</td>\n",
       "    </tr>\n",
       "    <tr>\n",
       "      <th>21</th>\n",
       "      <td>174</td>\n",
       "      <td>264.783846</td>\n",
       "    </tr>\n",
       "    <tr>\n",
       "      <th>22</th>\n",
       "      <td>419</td>\n",
       "      <td>269.416591</td>\n",
       "    </tr>\n",
       "    <tr>\n",
       "      <th>23</th>\n",
       "      <td>778</td>\n",
       "      <td>339.460404</td>\n",
       "    </tr>\n",
       "    <tr>\n",
       "      <th>24</th>\n",
       "      <td>42</td>\n",
       "      <td>202.244727</td>\n",
       "    </tr>\n",
       "    <tr>\n",
       "      <th>25</th>\n",
       "      <td>0</td>\n",
       "      <td>211.404393</td>\n",
       "    </tr>\n",
       "    <tr>\n",
       "      <th>26</th>\n",
       "      <td>1226</td>\n",
       "      <td>270.195574</td>\n",
       "    </tr>\n",
       "    <tr>\n",
       "      <th>27</th>\n",
       "      <td>510</td>\n",
       "      <td>215.275792</td>\n",
       "    </tr>\n",
       "    <tr>\n",
       "      <th>28</th>\n",
       "      <td>88</td>\n",
       "      <td>231.934273</td>\n",
       "    </tr>\n",
       "    <tr>\n",
       "      <th>29</th>\n",
       "      <td>1</td>\n",
       "      <td>206.127884</td>\n",
       "    </tr>\n",
       "  </tbody>\n",
       "</table>\n",
       "</div>"
      ],
      "text/plain": [
       "    Actual   Predicted\n",
       "0      453  205.822170\n",
       "1      134  267.743982\n",
       "2       38  226.451995\n",
       "3      650  200.889590\n",
       "4        1  208.344312\n",
       "5       16  201.659754\n",
       "6        2  253.904538\n",
       "7      721  283.323645\n",
       "8       39  213.027029\n",
       "9        2  363.899898\n",
       "10     208  202.271183\n",
       "11      31  223.074442\n",
       "12       0  262.355770\n",
       "13      41  230.411582\n",
       "14     423  249.192424\n",
       "15       2  326.317636\n",
       "16     940  201.689150\n",
       "17    2941  315.188465\n",
       "18    1582  333.069803\n",
       "19     117  204.355330\n",
       "20       0  229.700208\n",
       "21     174  264.783846\n",
       "22     419  269.416591\n",
       "23     778  339.460404\n",
       "24      42  202.244727\n",
       "25       0  211.404393\n",
       "26    1226  270.195574\n",
       "27     510  215.275792\n",
       "28      88  231.934273\n",
       "29       1  206.127884"
      ]
     },
     "execution_count": 100,
     "metadata": {},
     "output_type": "execute_result"
    }
   ],
   "source": [
    "# create a dataframe comparing the actual and predicted values of Y.\n",
    "\n",
    "data = pd.DataFrame({'Actual': y3_test.flatten(), 'Predicted': y3_predicted.flatten()})\n",
    "data.head(30)"
   ]
  },
  {
   "cell_type": "markdown",
   "id": "770fbbe7",
   "metadata": {},
   "source": [
    "##### Predict how the regresssion fits the training model"
   ]
  },
  {
   "cell_type": "code",
   "execution_count": 101,
   "id": "ebafe272",
   "metadata": {},
   "outputs": [],
   "source": [
    "# predict\n",
    "\n",
    "y3_predicted_train = regression.predict(X3_train)"
   ]
  },
  {
   "cell_type": "code",
   "execution_count": 102,
   "id": "b1e4fdf1",
   "metadata": {},
   "outputs": [],
   "source": [
    "rmse = mean_squared_error(y3_train, y3_predicted_train)\n",
    "r2 = r2_score(y3_train, y3_predicted_train)"
   ]
  },
  {
   "cell_type": "code",
   "execution_count": 103,
   "id": "ff4ebe97",
   "metadata": {},
   "outputs": [
    {
     "name": "stdout",
     "output_type": "stream",
     "text": [
      "Slope: [[0.00014528]]\n",
      "Mean squared error:  952018.33304125\n",
      "R2 score:  -0.08010009001207741\n"
     ]
    }
   ],
   "source": [
    "print('Slope:' ,regression.coef_)\n",
    "print('Mean squared error: ', rmse)\n",
    "print('R2 score: ', r2)"
   ]
  },
  {
   "cell_type": "code",
   "execution_count": 104,
   "id": "31336ca9",
   "metadata": {},
   "outputs": [
    {
     "data": {
      "image/png": "[encoded data removed]",
      "text/plain": [
       "<Figure size 432x288 with 1 Axes>"
      ]
     },
     "metadata": {
      "needs_background": "light"
     },
     "output_type": "display_data"
    }
   ],
   "source": [
    "# visualizing the training set results\n",
    "\n",
    "plot_test = plt\n",
    "plot_test.scatter(X3_train, y3_train, color='green', s = 15)\n",
    "plot_test.plot(X3_train, y3_predicted_train, color='red', linewidth =3)\n",
    "plot_test.title('GDP per capita ($) vs Count of suicides (Train set)')\n",
    "plot_test.xlabel('gdp_per_ capita($)')\n",
    "plot_test.ylabel('count of suicides')\n",
    "plot_test.show()"
   ]
  },
  {
   "cell_type": "markdown",
   "id": "43aa6f36",
   "metadata": {},
   "source": [
    "**Looking at the horizontal line for regression analysis in the chart above, it seems like there is no relationship between the two variables.**"
   ]
  },
  {
   "cell_type": "markdown",
   "id": "5dc5787d",
   "metadata": {},
   "source": [
    "___"
   ]
  },
  {
   "cell_type": "markdown",
   "id": "f40a5aa8",
   "metadata": {},
   "source": [
    "**D. The higher the population, the higher the count of suicides.** \n",
    "\n",
    "**Population vs. count of suicides**"
   ]
  },
  {
   "cell_type": "code",
   "execution_count": 85,
   "id": "f909b937",
   "metadata": {},
   "outputs": [],
   "source": [
    "# Create a regression object.\n",
    "\n",
    "regression = LinearRegression()"
   ]
  },
  {
   "cell_type": "code",
   "execution_count": 86,
   "id": "89ba07b3",
   "metadata": {},
   "outputs": [
    {
     "data": {
      "text/plain": [
       "LinearRegression()"
      ]
     },
     "execution_count": 86,
     "metadata": {},
     "output_type": "execute_result"
    }
   ],
   "source": [
    "# Fit the regression object onto the training set\n",
    "\n",
    "regression.fit(X4_train, y4_train)"
   ]
  },
  {
   "cell_type": "code",
   "execution_count": 87,
   "id": "e5a6a74b",
   "metadata": {},
   "outputs": [],
   "source": [
    "# predict the values of y using X\n",
    "\n",
    "y4_predicted = regression.predict(X4_test)"
   ]
  },
  {
   "cell_type": "code",
   "execution_count": 89,
   "id": "87331311",
   "metadata": {},
   "outputs": [
    {
     "data": {
      "image/png": "[encoded data removed]",
      "text/plain": [
       "<Figure size 432x288 with 1 Axes>"
      ]
     },
     "metadata": {
      "needs_background": "light"
     },
     "output_type": "display_data"
    }
   ],
   "source": [
    "# create a plot that shows the regression line from the model on the test set\n",
    "\n",
    "plot_test = plt\n",
    "plot_test.scatter(X4_test, y4_test, color='gray', s = 15)\n",
    "plot_test.plot(X4_test, y4_predicted, color='red', linewidth =3)\n",
    "plot_test.title('Population vs count of suicides (Test set)')\n",
    "plot_test.xlabel('Population')\n",
    "plot_test.ylabel('count of suicides')\n",
    "plot_test.show()"
   ]
  },
  {
   "cell_type": "code",
   "execution_count": 90,
   "id": "bc20672c",
   "metadata": {},
   "outputs": [],
   "source": [
    "# create objects that contain the model summary statistics\n",
    "\n",
    "rmse = mean_squared_error(y4_test, y4_predicted) \n",
    "r2 = r2_score(y4_test, y4_predicted)"
   ]
  },
  {
   "cell_type": "code",
   "execution_count": 91,
   "id": "8333d01e",
   "metadata": {},
   "outputs": [
    {
     "name": "stdout",
     "output_type": "stream",
     "text": [
      "Slope: [[0.00014528]]\n",
      "Mean squared error:  393893.42656653526\n",
      "R2 score:  0.39899011403699614\n"
     ]
    }
   ],
   "source": [
    "# print the model summary statistics\n",
    "\n",
    "print('Slope:' ,regression.coef_)\n",
    "print('Mean squared error: ', rmse)\n",
    "print('R2 score: ', r2)"
   ]
  },
  {
   "cell_type": "code",
   "execution_count": 92,
   "id": "77626e93",
   "metadata": {},
   "outputs": [
    {
     "data": {
      "text/html": [
       "<div>\n",
       "<style scoped>\n",
       "    .dataframe tbody tr th:only-of-type {\n",
       "        vertical-align: middle;\n",
       "    }\n",
       "\n",
       "    .dataframe tbody tr th {\n",
       "        vertical-align: top;\n",
       "    }\n",
       "\n",
       "    .dataframe thead th {\n",
       "        text-align: right;\n",
       "    }\n",
       "</style>\n",
       "<table border=\"1\" class=\"dataframe\">\n",
       "  <thead>\n",
       "    <tr style=\"text-align: right;\">\n",
       "      <th></th>\n",
       "      <th>Actual</th>\n",
       "      <th>Predicted</th>\n",
       "    </tr>\n",
       "  </thead>\n",
       "  <tbody>\n",
       "    <tr>\n",
       "      <th>0</th>\n",
       "      <td>453</td>\n",
       "      <td>616.688815</td>\n",
       "    </tr>\n",
       "    <tr>\n",
       "      <th>1</th>\n",
       "      <td>134</td>\n",
       "      <td>24.166453</td>\n",
       "    </tr>\n",
       "    <tr>\n",
       "      <th>2</th>\n",
       "      <td>38</td>\n",
       "      <td>603.526662</td>\n",
       "    </tr>\n",
       "    <tr>\n",
       "      <th>3</th>\n",
       "      <td>650</td>\n",
       "      <td>194.868097</td>\n",
       "    </tr>\n",
       "    <tr>\n",
       "      <th>4</th>\n",
       "      <td>1</td>\n",
       "      <td>-19.711652</td>\n",
       "    </tr>\n",
       "    <tr>\n",
       "      <th>5</th>\n",
       "      <td>16</td>\n",
       "      <td>36.781049</td>\n",
       "    </tr>\n",
       "    <tr>\n",
       "      <th>6</th>\n",
       "      <td>2</td>\n",
       "      <td>0.106178</td>\n",
       "    </tr>\n",
       "    <tr>\n",
       "      <th>7</th>\n",
       "      <td>721</td>\n",
       "      <td>215.054501</td>\n",
       "    </tr>\n",
       "    <tr>\n",
       "      <th>8</th>\n",
       "      <td>39</td>\n",
       "      <td>222.101415</td>\n",
       "    </tr>\n",
       "    <tr>\n",
       "      <th>9</th>\n",
       "      <td>2</td>\n",
       "      <td>51.341514</td>\n",
       "    </tr>\n",
       "    <tr>\n",
       "      <th>10</th>\n",
       "      <td>208</td>\n",
       "      <td>84.123918</td>\n",
       "    </tr>\n",
       "    <tr>\n",
       "      <th>11</th>\n",
       "      <td>31</td>\n",
       "      <td>486.387582</td>\n",
       "    </tr>\n",
       "    <tr>\n",
       "      <th>12</th>\n",
       "      <td>0</td>\n",
       "      <td>-20.313253</td>\n",
       "    </tr>\n",
       "    <tr>\n",
       "      <th>13</th>\n",
       "      <td>41</td>\n",
       "      <td>4.680004</td>\n",
       "    </tr>\n",
       "    <tr>\n",
       "      <th>14</th>\n",
       "      <td>423</td>\n",
       "      <td>160.439098</td>\n",
       "    </tr>\n",
       "    <tr>\n",
       "      <th>15</th>\n",
       "      <td>2</td>\n",
       "      <td>14.644852</td>\n",
       "    </tr>\n",
       "    <tr>\n",
       "      <th>16</th>\n",
       "      <td>940</td>\n",
       "      <td>899.503604</td>\n",
       "    </tr>\n",
       "    <tr>\n",
       "      <th>17</th>\n",
       "      <td>2941</td>\n",
       "      <td>2394.790092</td>\n",
       "    </tr>\n",
       "    <tr>\n",
       "      <th>18</th>\n",
       "      <td>1582</td>\n",
       "      <td>645.889650</td>\n",
       "    </tr>\n",
       "    <tr>\n",
       "      <th>19</th>\n",
       "      <td>117</td>\n",
       "      <td>310.041113</td>\n",
       "    </tr>\n",
       "    <tr>\n",
       "      <th>20</th>\n",
       "      <td>0</td>\n",
       "      <td>-20.371075</td>\n",
       "    </tr>\n",
       "    <tr>\n",
       "      <th>21</th>\n",
       "      <td>174</td>\n",
       "      <td>62.942206</td>\n",
       "    </tr>\n",
       "    <tr>\n",
       "      <th>22</th>\n",
       "      <td>419</td>\n",
       "      <td>532.404197</td>\n",
       "    </tr>\n",
       "    <tr>\n",
       "      <th>23</th>\n",
       "      <td>778</td>\n",
       "      <td>537.156571</td>\n",
       "    </tr>\n",
       "    <tr>\n",
       "      <th>24</th>\n",
       "      <td>42</td>\n",
       "      <td>126.282062</td>\n",
       "    </tr>\n",
       "    <tr>\n",
       "      <th>25</th>\n",
       "      <td>0</td>\n",
       "      <td>-15.372307</td>\n",
       "    </tr>\n",
       "    <tr>\n",
       "      <th>26</th>\n",
       "      <td>1226</td>\n",
       "      <td>3159.104128</td>\n",
       "    </tr>\n",
       "    <tr>\n",
       "      <th>27</th>\n",
       "      <td>510</td>\n",
       "      <td>771.822918</td>\n",
       "    </tr>\n",
       "    <tr>\n",
       "      <th>28</th>\n",
       "      <td>88</td>\n",
       "      <td>129.420384</td>\n",
       "    </tr>\n",
       "    <tr>\n",
       "      <th>29</th>\n",
       "      <td>1</td>\n",
       "      <td>20.858009</td>\n",
       "    </tr>\n",
       "  </tbody>\n",
       "</table>\n",
       "</div>"
      ],
      "text/plain": [
       "    Actual    Predicted\n",
       "0      453   616.688815\n",
       "1      134    24.166453\n",
       "2       38   603.526662\n",
       "3      650   194.868097\n",
       "4        1   -19.711652\n",
       "5       16    36.781049\n",
       "6        2     0.106178\n",
       "7      721   215.054501\n",
       "8       39   222.101415\n",
       "9        2    51.341514\n",
       "10     208    84.123918\n",
       "11      31   486.387582\n",
       "12       0   -20.313253\n",
       "13      41     4.680004\n",
       "14     423   160.439098\n",
       "15       2    14.644852\n",
       "16     940   899.503604\n",
       "17    2941  2394.790092\n",
       "18    1582   645.889650\n",
       "19     117   310.041113\n",
       "20       0   -20.371075\n",
       "21     174    62.942206\n",
       "22     419   532.404197\n",
       "23     778   537.156571\n",
       "24      42   126.282062\n",
       "25       0   -15.372307\n",
       "26    1226  3159.104128\n",
       "27     510   771.822918\n",
       "28      88   129.420384\n",
       "29       1    20.858009"
      ]
     },
     "execution_count": 92,
     "metadata": {},
     "output_type": "execute_result"
    }
   ],
   "source": [
    "# create a dataframe comparing the actual and predicted values of Y.\n",
    "\n",
    "data = pd.DataFrame({'Actual': y4_test.flatten(), 'Predicted': y4_predicted.flatten()})\n",
    "data.head(30)"
   ]
  },
  {
   "cell_type": "markdown",
   "id": "baa85246",
   "metadata": {},
   "source": [
    "##### Predict how the regresssion fits the training model"
   ]
  },
  {
   "cell_type": "code",
   "execution_count": 93,
   "id": "203d9fee",
   "metadata": {},
   "outputs": [],
   "source": [
    "# predict\n",
    "\n",
    "y4_predicted_train = regression.predict(X4_train)"
   ]
  },
  {
   "cell_type": "code",
   "execution_count": 94,
   "id": "69766a06",
   "metadata": {},
   "outputs": [],
   "source": [
    "rmse = mean_squared_error(y4_train, y4_predicted_train)\n",
    "r2 = r2_score(y4_train, y4_predicted_train)"
   ]
  },
  {
   "cell_type": "code",
   "execution_count": 95,
   "id": "f4d367e3",
   "metadata": {},
   "outputs": [
    {
     "name": "stdout",
     "output_type": "stream",
     "text": [
      "Slope: [[0.00014528]]\n",
      "Mean squared error:  552506.6003376663\n",
      "R2 score:  0.3731607805801328\n"
     ]
    }
   ],
   "source": [
    "print('Slope:' ,regression.coef_)\n",
    "print('Mean squared error: ', rmse)\n",
    "print('R2 score: ', r2)"
   ]
  },
  {
   "cell_type": "code",
   "execution_count": 97,
   "id": "daf8f49b",
   "metadata": {},
   "outputs": [
    {
     "data": {
      "image/png": "[encoded data removed]",
      "text/plain": [
       "<Figure size 432x288 with 1 Axes>"
      ]
     },
     "metadata": {
      "needs_background": "light"
     },
     "output_type": "display_data"
    }
   ],
   "source": [
    "# visualizing the training set results\n",
    "\n",
    "plot_test = plt\n",
    "plot_test.scatter(X4_train, y4_train, color='green', s = 15)\n",
    "plot_test.plot(X4_train, y4_predicted_train, color='red', linewidth =3)\n",
    "plot_test.title('Population vs Count of suicides (Train set)')\n",
    "plot_test.xlabel('population')\n",
    "plot_test.ylabel('count of suicides')\n",
    "plot_test.show()"
   ]
  },
  {
   "cell_type": "markdown",
   "id": "fec59a1a",
   "metadata": {},
   "source": [
    "**As population increases, the count of suicides increases as well. However due to the high MSE and low R2 score, this model is not viable for making predictions.** "
   ]
  },
  {
   "cell_type": "markdown",
   "id": "9122461b",
   "metadata": {},
   "source": [
    "___\n",
    "\n",
    "### 5. Exporting dataset"
   ]
  },
  {
   "cell_type": "code",
   "execution_count": 105,
   "id": "a5b2a0ee",
   "metadata": {},
   "outputs": [],
   "source": [
    "# Export data to csv\n",
    "df.to_csv(os.path.join(path, '02 Data', 'Prepared Data', 'master_clean_6.4.csv'))"
   ]
  }
 ],
 "metadata": {
  "kernelspec": {
   "display_name": "Python 3 (ipykernel)",
   "language": "python",
   "name": "python3"
  },
  "language_info": {
   "codemirror_mode": {
    "name": "ipython",
    "version": 3
   },
   "file_extension": ".py",
   "mimetype": "text/x-python",
   "name": "python",
   "nbconvert_exporter": "python",
   "pygments_lexer": "ipython3",
   "version": "3.9.12"
  }
 },
 "nbformat": 4,
 "nbformat_minor": 5
}
